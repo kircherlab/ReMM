{
 "cells": [
  {
   "cell_type": "code",
   "execution_count": 16,
   "metadata": {},
   "outputs": [
    {
     "name": "stderr",
     "output_type": "stream",
     "text": [
      "<ipython-input-16-b41f6745eb6c>:7: FutureWarning: Passing a negative integer is deprecated in version 1.0 and will not be supported in future version. Instead, use None to not limit the column width.\n",
      "  pd.set_option('display.max_colwidth', -1)\n"
     ]
    }
   ],
   "source": [
    "import json\n",
    "\n",
    "import os\n",
    "import pandas as pd\n",
    "os.chdir('/fast/work/groups/ag_kircher/ReMM/MA_Lusi/Snakemake')\n",
    "pd.set_option('display.max_rows', 999)\n",
    "pd.set_option('display.max_colwidth', -1)"
   ]
  },
  {
   "cell_type": "code",
   "execution_count": 12,
   "metadata": {},
   "outputs": [],
   "source": [
    "with open('config/features_config.json') as f:\n",
    "    data = json.load(f)"
   ]
  },
  {
   "cell_type": "code",
   "execution_count": 24,
   "metadata": {},
   "outputs": [],
   "source": [
    "k = []\n",
    "for key in data['hg38'].keys():\n",
    "    k.append([key,data['hg38'][key]['url']])"
   ]
  },
  {
   "cell_type": "code",
   "execution_count": 31,
   "metadata": {},
   "outputs": [],
   "source": [
    "df = pd.DataFrame(k)\n",
    "df.columns = ['Feature','Source']\n",
    "\n",
    "\n",
    "#df['Source'] ='\\\\href{'+df['Source']+'}'+'{'+df['Source']+'}'\n",
    "df\n",
    "\n",
    "df['Source'] ='url{'+df['Source']+'}'"
   ]
  },
  {
   "cell_type": "code",
   "execution_count": 32,
   "metadata": {},
   "outputs": [],
   "source": [
    "df.to_latex('figures/features.tex', index = False,column_format = 'lll',escape=False)"
   ]
  },
  {
   "cell_type": "code",
   "execution_count": null,
   "metadata": {},
   "outputs": [],
   "source": [
    "df = pd.read_csv('input/variants/hg38/SNVs.hg38.negative.refseq.filtered.vcf.gz'\n",
    "                 , skiprows = 1,sep = '\\t')"
   ]
  },
  {
   "cell_type": "code",
   "execution_count": null,
   "metadata": {},
   "outputs": [],
   "source": [
    "f = df.loc[:,'INFO'].str.split('|',expand = True)[1]\n",
    "to_replace = {'intergenic_variant':'Intergenic variant',\n",
    "'coding_transcript_intron_variant':'Coding transcript intron variant',\n",
    "'non_coding_transcript_intron_variant':'Non-coding transcript intron variant',\n",
    "'5_prime_UTR_intron_variant':'5\\' UTR intron variant',\n",
    "'upstream_gene_variant':'Upstream gene variant',\n",
    "'downstream_gene_variant':'Downstream gene variant',\n",
    "'non_coding_transcript_exon_variant':'Non-coding transcript exon variant',\n",
    "'non_coding_transcript_exon_variant':'Non coding transcript exon variant',\n",
    "'3_prime_UTR_exon_variant':'3\\' UTR exon variant',\n",
    "'5_prime_UTR_exon_variant':'5\\' UTR exon variant',\n",
    "'3_prime_UTR_intron_variant':'3\\' UTR intron variant'}\n",
    "\n",
    "a = f.replace(to_replace).value_counts()\n",
    "b = f.replace(to_replace).value_counts(normalize =True)\n",
    "a = pd.DataFrame(a)\n",
    "a[2]=b*100\n",
    "a = a.T\n",
    "a['Total']=a.sum(axis = 1)\n",
    "\n",
    "a.columns = ['Asolute','Relative']\n",
    "a['Asolute'] = a['Asolute'].astype(int)\n",
    "\n",
    "a['Relative'] = a['Relative'].round(2)"
   ]
  },
  {
   "cell_type": "code",
   "execution_count": null,
   "metadata": {},
   "outputs": [],
   "source": []
  },
  {
   "cell_type": "code",
   "execution_count": null,
   "metadata": {},
   "outputs": [],
   "source": [
    "a.to_latex('figures/variant_distribution.tex', index = True,column_format = 'lll',formatters = {'\\\\':'\\\\ \\hline'})"
   ]
  },
  {
   "cell_type": "code",
   "execution_count": null,
   "metadata": {},
   "outputs": [],
   "source": [
    "df = pd.read_csv('input/variants/hg38/SNVs.hg38.negative.refseqannotated.vcf.gz',sep = '\\t',skiprows = 0,nrows = 1)\n",
    "df"
   ]
  },
  {
   "cell_type": "code",
   "execution_count": null,
   "metadata": {},
   "outputs": [],
   "source": [
    "df = pd.read_csv('input/variants/hg38/SNVs.hg38.positive.refseq.vcf.gz',sep = '\\t',skiprows =6)\n",
    "df['REF']='A'\n",
    "df['ALT']='T'"
   ]
  },
  {
   "cell_type": "code",
   "execution_count": null,
   "metadata": {},
   "outputs": [],
   "source": [
    "df.to_csv('input/variants/hg38/SNVs.hg38.positive.vcf.gz',sep ='\\t',index = False )"
   ]
  },
  {
   "cell_type": "code",
   "execution_count": null,
   "metadata": {},
   "outputs": [],
   "source": [
    "df['ID'].str.split(';',expand = True)"
   ]
  },
  {
   "cell_type": "code",
   "execution_count": null,
   "metadata": {},
   "outputs": [],
   "source": [
    "df = pd.read_csv('input/variants/hg38/SNVs.hg38.positive.refseq.vcf.gz',sep = '\\t',skiprows =6)\n",
    "b = df['INFO'].str.split('|',expand =True)[1]#.value_counts()"
   ]
  },
  {
   "cell_type": "code",
   "execution_count": null,
   "metadata": {},
   "outputs": [],
   "source": [
    "a=df['ID'].str.split(';',expand =True)[4].str.split('=',expand =True)[1]"
   ]
  },
  {
   "cell_type": "code",
   "execution_count": null,
   "metadata": {},
   "outputs": [],
   "source": [
    "c = pd.DataFrame([a,b]).T\n",
    "c.columns = [['original','jannovar']]\n"
   ]
  },
  {
   "cell_type": "code",
   "execution_count": null,
   "metadata": {},
   "outputs": [],
   "source": [
    "c[c[1]=='5UTR'][2].value_counts().sum()"
   ]
  },
  {
   "cell_type": "code",
   "execution_count": null,
   "metadata": {},
   "outputs": [],
   "source": [
    "#c.to_csv('figures/jannovarGroups.csv',sep = '\\t',index = False)"
   ]
  },
  {
   "cell_type": "code",
   "execution_count": 3,
   "metadata": {},
   "outputs": [],
   "source": [
    "l = ['enhancers','promoters','5UTR','3UTR','RNA','ICR','MiRNA']"
   ]
  },
  {
   "cell_type": "code",
   "execution_count": 6,
   "metadata": {},
   "outputs": [
    {
     "name": "stdout",
     "output_type": "stream",
     "text": [
      "enhancers\n"
     ]
    },
    {
     "data": {
      "text/plain": [
       "37"
      ]
     },
     "metadata": {},
     "output_type": "display_data"
    },
    {
     "name": "stdout",
     "output_type": "stream",
     "text": [
      "promoters\n"
     ]
    },
    {
     "data": {
      "text/plain": [
       "130"
      ]
     },
     "metadata": {},
     "output_type": "display_data"
    },
    {
     "name": "stdout",
     "output_type": "stream",
     "text": [
      "5UTR\n"
     ]
    },
    {
     "data": {
      "text/plain": [
       "132"
      ]
     },
     "metadata": {},
     "output_type": "display_data"
    },
    {
     "name": "stdout",
     "output_type": "stream",
     "text": [
      "3UTR\n"
     ]
    },
    {
     "data": {
      "text/plain": [
       "38"
      ]
     },
     "metadata": {},
     "output_type": "display_data"
    },
    {
     "name": "stdout",
     "output_type": "stream",
     "text": [
      "RNA\n"
     ]
    },
    {
     "data": {
      "text/plain": [
       "60"
      ]
     },
     "metadata": {},
     "output_type": "display_data"
    },
    {
     "name": "stdout",
     "output_type": "stream",
     "text": [
      "ICR\n"
     ]
    },
    {
     "data": {
      "text/plain": [
       "3"
      ]
     },
     "metadata": {},
     "output_type": "display_data"
    },
    {
     "name": "stdout",
     "output_type": "stream",
     "text": [
      "MiRNA\n"
     ]
    },
    {
     "data": {
      "text/plain": [
       "5"
      ]
     },
     "metadata": {},
     "output_type": "display_data"
    }
   ],
   "source": [
    "for file in l:\n",
    "    print(file)\n",
    "    df = pd.read_csv('figures/'+file+'.txt',sep = ' ',header = None)\n",
    "    b = df.shape[1]\n",
    "    display(df[(df[2].str.len()==1)&(df[3].str.len()==1)].shape[0])"
   ]
  },
  {
   "cell_type": "code",
   "execution_count": 7,
   "metadata": {},
   "outputs": [
    {
     "data": {
      "text/plain": [
       "405"
      ]
     },
     "execution_count": 7,
     "metadata": {},
     "output_type": "execute_result"
    }
   ],
   "source": [
    "44+142+152+43+65+3+5\n",
    "37+130+132+38+60+3+5"
   ]
  },
  {
   "cell_type": "code",
   "execution_count": 12,
   "metadata": {},
   "outputs": [],
   "source": [
    "df = pd.read_csv('input/variants/hg38/SNVs.hg38.positive.refseq.vcf.gz',sep = '\\t',skiprows =6)\n",
    "a=df['ID'].str.split(';',expand =True)[4].str.split('=',expand =True)[1]"
   ]
  },
  {
   "cell_type": "code",
   "execution_count": 16,
   "metadata": {},
   "outputs": [
    {
     "data": {
      "text/plain": [
       "5UTR                133\n",
       "promoter            130\n",
       "RNP_RNAcomponent     60\n",
       "3UTR                 38\n",
       "enhancer             37\n",
       "microRNAgene          5\n",
       "ICR                   3\n",
       "Name: 1, dtype: int64"
      ]
     },
     "execution_count": 16,
     "metadata": {},
     "output_type": "execute_result"
    }
   ],
   "source": [
    "a.value_counts()"
   ]
  },
  {
   "cell_type": "code",
   "execution_count": 18,
   "metadata": {},
   "outputs": [
    {
     "data": {
      "text/plain": [
       "0.4211822660098522"
      ]
     },
     "execution_count": 18,
     "metadata": {},
     "output_type": "execute_result"
    }
   ],
   "source": [
    "(133+38)/406"
   ]
  },
  {
   "cell_type": "code",
   "execution_count": 19,
   "metadata": {},
   "outputs": [
    {
     "data": {
      "text/plain": [
       "0.32019704433497537"
      ]
     },
     "execution_count": 19,
     "metadata": {},
     "output_type": "execute_result"
    }
   ],
   "source": [
    "130/406"
   ]
  },
  {
   "cell_type": "code",
   "execution_count": 20,
   "metadata": {},
   "outputs": [
    {
     "data": {
      "text/plain": [
       "6.539999999999999"
      ]
     },
     "execution_count": 20,
     "metadata": {},
     "output_type": "execute_result"
    }
   ],
   "source": [
    "5.27+1.1+0.17\n"
   ]
  },
  {
   "cell_type": "code",
   "execution_count": null,
   "metadata": {},
   "outputs": [],
   "source": []
  }
 ],
 "metadata": {
  "kernelspec": {
   "display_name": "Python 3",
   "language": "python",
   "name": "python3"
  },
  "language_info": {
   "codemirror_mode": {
    "name": "ipython",
    "version": 3
   },
   "file_extension": ".py",
   "mimetype": "text/x-python",
   "name": "python",
   "nbconvert_exporter": "python",
   "pygments_lexer": "ipython3",
   "version": "3.8.6"
  }
 },
 "nbformat": 4,
 "nbformat_minor": 4
}
