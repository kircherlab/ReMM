{
 "cells": [
  {
   "cell_type": "code",
   "execution_count": 16,
   "metadata": {},
   "outputs": [
    {
     "name": "stderr",
     "output_type": "stream",
     "text": [
      "<ipython-input-16-b41f6745eb6c>:7: FutureWarning: Passing a negative integer is deprecated in version 1.0 and will not be supported in future version. Instead, use None to not limit the column width.\n",
      "  pd.set_option('display.max_colwidth', -1)\n"
     ]
    }
   ],
   "source": [
    "import json\n",
    "\n",
    "import os\n",
    "import pandas as pd\n",
    "os.chdir('/fast/work/groups/ag_kircher/ReMM/MA_Lusi/Snakemake')\n",
    "pd.set_option('display.max_rows', 999)\n",
    "pd.set_option('display.max_colwidth', -1)"
   ]
  },
  {
   "cell_type": "markdown",
   "metadata": {},
   "source": [
    "### Feature Table"
   ]
  },
  {
   "cell_type": "code",
   "execution_count": 12,
   "metadata": {},
   "outputs": [],
   "source": [
    "\n",
    "with open('config/features_config.json') as f:\n",
    "    data = json.load(f)\n",
    "    \n",
    "k = []\n",
    "for key in data['hg38'].keys():\n",
    "    k.append([key,data['hg38'][key]['url']])\n",
    "    \n",
    "df = pd.DataFrame(k)\n",
    "df.columns = ['Feature','Source']\n",
    "df['Source'] ='url{'+df['Source']+'}'\n",
    "df.to_latex('figures/features.tex', index = False,column_format = 'lll',escape=False)"
   ]
  },
  {
   "cell_type": "markdown",
   "metadata": {},
   "source": [
    "### Negative Set Table"
   ]
  },
  {
   "cell_type": "code",
   "execution_count": null,
   "metadata": {},
   "outputs": [],
   "source": [
    "df = pd.read_csv('input/variants/hg38/SNVs.hg38.negative.refseq.filtered.vcf.gz'\n",
    "                 , skiprows = 1,sep = '\\t')\n",
    "\n",
    "f = df.loc[:,'INFO'].str.split('|',expand = True)[1]\n",
    "to_replace = {'intergenic_variant':'Intergenic variant',\n",
    "'coding_transcript_intron_variant':'Coding transcript intron variant',\n",
    "'non_coding_transcript_intron_variant':'Non-coding transcript intron variant',\n",
    "'5_prime_UTR_intron_variant':'5\\' UTR intron variant',\n",
    "'upstream_gene_variant':'Upstream gene variant',\n",
    "'downstream_gene_variant':'Downstream gene variant',\n",
    "'non_coding_transcript_exon_variant':'Non-coding transcript exon variant',\n",
    "'non_coding_transcript_exon_variant':'Non coding transcript exon variant',\n",
    "'3_prime_UTR_exon_variant':'3\\' UTR exon variant',\n",
    "'5_prime_UTR_exon_variant':'5\\' UTR exon variant',\n",
    "'3_prime_UTR_intron_variant':'3\\' UTR intron variant'}\n",
    "\n",
    "a = f.replace(to_replace).value_counts()\n",
    "b = f.replace(to_replace).value_counts(normalize =True)\n",
    "a = pd.DataFrame(a)\n",
    "a[2]=b*100\n",
    "a = a.T\n",
    "a['Total']=a.sum(axis = 1)\n",
    "\n",
    "a.columns = ['Asolute','Relative']\n",
    "a['Asolute'] = a['Asolute'].astype(int)\n",
    "\n",
    "a['Relative'] = a['Relative'].round(2)\n",
    "\n",
    "a.to_latex('figures/variant_distribution.tex', index = True,column_format = 'lll',formatters = {'\\\\':'\\\\ \\hline'})"
   ]
  },
  {
   "cell_type": "markdown",
   "metadata": {},
   "source": [
    "### Data for positive set table"
   ]
  },
  {
   "cell_type": "code",
   "execution_count": 16,
   "metadata": {},
   "outputs": [
    {
     "data": {
      "text/plain": [
       "5UTR                133\n",
       "promoter            130\n",
       "RNP_RNAcomponent     60\n",
       "3UTR                 38\n",
       "enhancer             37\n",
       "microRNAgene          5\n",
       "ICR                   3\n",
       "Name: 1, dtype: int64"
      ]
     },
     "execution_count": 16,
     "metadata": {},
     "output_type": "execute_result"
    }
   ],
   "source": [
    "df = pd.read_csv('input/variants/hg38/SNVs.hg38.positive.refseq.vcf.gz',sep = '\\t',skiprows =6)\n",
    "a=df['ID'].str.split(';',expand =True)[4].str.split('=',expand =True)[1]\n",
    "a.value_counts()"
   ]
  },
  {
   "cell_type": "code",
   "execution_count": null,
   "metadata": {},
   "outputs": [],
   "source": []
  }
 ],
 "metadata": {
  "hide_input": false,
  "kernelspec": {
   "display_name": "Python 3",
   "language": "python",
   "name": "python3"
  },
  "language_info": {
   "codemirror_mode": {
    "name": "ipython",
    "version": 3
   },
   "file_extension": ".py",
   "mimetype": "text/x-python",
   "name": "python",
   "nbconvert_exporter": "python",
   "pygments_lexer": "ipython3",
   "version": "3.8.6"
  },
  "toc": {
   "base_numbering": 1,
   "nav_menu": {},
   "number_sections": true,
   "sideBar": true,
   "skip_h1_title": false,
   "title_cell": "Table of Contents",
   "title_sidebar": "Contents",
   "toc_cell": false,
   "toc_position": {},
   "toc_section_display": true,
   "toc_window_display": false
  },
  "varInspector": {
   "cols": {
    "lenName": 16,
    "lenType": 16,
    "lenVar": 40
   },
   "kernels_config": {
    "python": {
     "delete_cmd_postfix": "",
     "delete_cmd_prefix": "del ",
     "library": "var_list.py",
     "varRefreshCmd": "print(var_dic_list())"
    },
    "r": {
     "delete_cmd_postfix": ") ",
     "delete_cmd_prefix": "rm(",
     "library": "var_list.r",
     "varRefreshCmd": "cat(var_dic_list()) "
    }
   },
   "types_to_exclude": [
    "module",
    "function",
    "builtin_function_or_method",
    "instance",
    "_Feature"
   ],
   "window_display": false
  }
 },
 "nbformat": 4,
 "nbformat_minor": 4
}
