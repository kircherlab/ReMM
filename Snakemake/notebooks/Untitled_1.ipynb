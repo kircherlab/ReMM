{
 "cells": [
  {
   "cell_type": "code",
   "execution_count": 19,
   "metadata": {},
   "outputs": [],
   "source": [
    "import pandas as pd\n",
    "import os\n",
    "#import pyreadr\n",
    "\n",
    "import numpy as np\n",
    "from ftplib import FTP\n",
    "\n",
    "    \n",
    "import os\n",
    "\n",
    "\n",
    "## move to .py when done   "
   ]
  },
  {
   "cell_type": "code",
   "execution_count": null,
   "metadata": {},
   "outputs": [],
   "source": [
    "conda install pandas"
   ]
  },
  {
   "cell_type": "code",
   "execution_count": null,
   "metadata": {},
   "outputs": [],
   "source": [
    "\n",
    "df = pd.read_excel('Utils/Features.xlsx')\n",
    "\n"
   ]
  },
  {
   "cell_type": "code",
   "execution_count": null,
   "metadata": {},
   "outputs": [],
   "source": [
    "#name = snakemake.params.name \n",
    "data_name = 'hg38'\n",
    "#rsync creates at most 1 missing directory\n",
    "os.system('mkdir input/' + 'Features' + '/' )\n",
    "os.system('mkdir input/Features/' + data_name + '/' )\n",
    "rsync_ = 'rsync -a -P rsync://'\n",
    "release = 'hg38'\n",
    "\n"
   ]
  },
  {
   "cell_type": "code",
   "execution_count": 5,
   "metadata": {},
   "outputs": [
    {
     "data": {
      "text/plain": [
       "'phyloP30way'"
      ]
     },
     "execution_count": 5,
     "metadata": {},
     "output_type": "execute_result"
    }
   ],
   "source": [
    "url = \"http://hgdownload.soe.ucsc.edu/goldenPath/hg38/phyloP30way/hg38.30way.phyloP/\"\n",
    "s = '/' + url.split('/', 3)[3]\n",
    "s.split('/', )[3]"
   ]
  },
  {
   "cell_type": "code",
   "execution_count": 3,
   "metadata": {},
   "outputs": [
    {
     "name": "stdout",
     "output_type": "stream",
     "text": [
      "/goldenPath/hg19/phyloP46way/placentalMammals/\n",
      "phyloP46way\n"
     ]
    },
    {
     "data": {
      "text/plain": [
       "[]"
      ]
     },
     "execution_count": 3,
     "metadata": {},
     "output_type": "execute_result"
    }
   ],
   "source": [
    "# since most data come from ucsc set is as defeault \n",
    "from ftplib import FTP\n",
    "import pandas as pd\n",
    "import fnmatch\n",
    "url = \"http://hgdownload.soe.ucsc.edu/goldenPath/hg19/phyloP46way/placentalMammals/\"\n",
    "def get_file_names(url):\n",
    "    ftp_ = url.split('/', 3)[2]\n",
    "    f = ftplib.FTP(ftp_)\n",
    "    f.login()\n",
    "    s = '/' + url.split('/', 3)[3]\n",
    "    feature = s.split('/', )[3]+'.bigWig.gz'\n",
    "    f.cwd(s)\n",
    "    files = pd.Series(f.nlst())\n",
    "    print(feature)\n",
    "    f.quit()\n",
    "    files = fnmatch.filter(files, feature)\n",
    "    return [url + file for file in files]\n"
   ]
  },
  {
   "cell_type": "code",
   "execution_count": 13,
   "metadata": {},
   "outputs": [
    {
     "data": {
      "text/plain": [
       "'221 Goodbye.'"
      ]
     },
     "execution_count": 13,
     "metadata": {},
     "output_type": "execute_result"
    }
   ],
   "source": [
    "import ftplib \n",
    "extension = 'phyloP46way.placental.wigFix.gz'\n",
    "url = \"http://hgdownload.soe.ucsc.edu/goldenPath/hg19/phyloP46way/placentalMammals/\"\n",
    "ftp_ = url.split('/', 3)[2]\n",
    "f = ftplib.FTP(ftp_)\n",
    "f.login()\n",
    "s = '/' + url.split('/', 3)[3]\n",
    "f.cwd(s)\n",
    "files_ = pd.Series(f.nlst())\n",
    "files = fnmatch.filter(files_, 'chr?.'+extension)+fnmatch.filter(files_, 'chr??.'+extension)\n",
    "f.quit()"
   ]
  },
  {
   "cell_type": "code",
   "execution_count": 1,
   "metadata": {},
   "outputs": [
    {
     "data": {
      "text/plain": [
       "['input/features/hg38/ISCApath/ClinGen%20recurrent%20CNV%20.bed%20file%20V1.1-hg38.bed']"
      ]
     },
     "execution_count": 1,
     "metadata": {},
     "output_type": "execute_result"
    }
   ],
   "source": [
    "from glob import glob\n",
    "files = glob(\"input/features/hg38/ISCApath/[!done.txt]*\")\n",
    "files"
   ]
  },
  {
   "cell_type": "code",
   "execution_count": null,
   "metadata": {},
   "outputs": [],
   "source": [
    "import pandas as pd\n",
    "import fnmatch\n",
    "\n",
    "files = pd.Series(f.nlst())\n",
    "#files[files.str.contains('phyloP30way.wigFix.gz',regex = True)]\n",
    "file = fnmatch.filter(files, 'chr?.phyloP30way.wigFix.gz')+fnmatch.filter(files, 'chr??.phyloP30way.wigFix.gz')\n"
   ]
  },
  {
   "cell_type": "code",
   "execution_count": null,
   "metadata": {
    "scrolled": false
   },
   "outputs": [],
   "source": [
    "commands = []\n",
    "\n",
    "for i in range(len(df))[:]:\n",
    " #   print(i)\n",
    "    rsync_ = 'rsync -a -P rsync://'\n",
    "\n",
    "\n",
    "    link = df['Link Release ' + release][i]\n",
    "    if link==link :\n",
    "        ftp_new = link.split('/', 3)[2]\n",
    "        s = '/' + link.split('/', 3)[3]\n",
    "        # change ftp adress is not ucsc\n",
    "        if ftp!=ftp_new:\n",
    "            ftp= ftp_new\n",
    "            f = FTP(ftp)\n",
    "            f.login()\n",
    "        else:\n",
    "            pass\n",
    "        rsync = rsync_ + ftp\n",
    "        f.cwd(s)\n",
    "        if df['File name'][i]=='diverse':\n",
    "        #    print('-----------------------')\n",
    "            files = f.nlst()\n",
    "            string = df['Name_Rule'][i].replace(',','|').replace(' ','')\n",
    "            feature_files = pd.Series(files)[pd.Series(files).str.contains(string)]\n",
    "         #   print(len(feature_files))\n",
    "            for file in feature_files:\n",
    "              #  print(file)\n",
    "                command = rsync + s + file + ' ./input/' + data_name + '/' + df['ReMM_Name'][i]  + '/' + ' ;'\n",
    "                commands.append(command)\n",
    "            #    print(command)\n",
    "        else:\n",
    "            command =rsync + s + df['File name'][i]+ ' ./input/Features/' + data_name + '/' + df['ReMM_Name'][i]  + '/'  + ' ;'\n",
    "            commands.append(command)\n",
    "    else:\n",
    "\n",
    "        pass\n"
   ]
  },
  {
   "cell_type": "code",
   "execution_count": null,
   "metadata": {},
   "outputs": [],
   "source": [
    "link = 'hgdownload.soe.ucsc.edu/goldenPath/hg38/phyloP30way/hg38.30way.phyloP/'\n",
    "string = 'gz'\n",
    "\n",
    "from ftplib import FTP\n",
    "import pandas as pd\n",
    "#link = snakemake.params.link\n",
    "#filter_ = snakemake.params.link\n",
    "#destination = snakemake.output\n",
    "destination = 'input/Features/hg38'\n",
    "ftp = link.split('/', 1)[0]\n",
    "directory = '/' + link.split('/', 1)[1]\n",
    "\n",
    "\n",
    "f = FTP(ftp)\n",
    "f.login()\n",
    "rsync = 'rsync -a -P rsync://' + ftp\n",
    "f.cwd(directory)\n",
    "files = f.nlst()\n",
    "files =pd.Series(files)#[pd.Series(files).str.contains(string)]\n",
    "\n",
    "filter_ ='chr[0-9]|chrX|chrY.*.phyloP30way.wigFix.gz'\n",
    "files =pd.Series(files)[pd.Series(files).str.contains(filter_)]\n",
    "with open(\"outfile\", \"w\") as outfile:\n",
    "    outfile.write(\"\\n\".join(str(item) for item in files))"
   ]
  },
  {
   "cell_type": "code",
   "execution_count": null,
   "metadata": {},
   "outputs": [],
   "source": [
    "rsync = 'rsync -a -P rsync://' + ftp + directory + destination + ' ;'\n",
    "rsync + s + file + ' ./input/' + data_name + '/' + df['ReMM_Name'][i]  + '/' + ' ;'"
   ]
  },
  {
   "cell_type": "code",
   "execution_count": null,
   "metadata": {},
   "outputs": [],
   "source": [
    "destination = '/input/Features/hg38/phyloP30way/'\n",
    "\n"
   ]
  },
  {
   "cell_type": "code",
   "execution_count": null,
   "metadata": {},
   "outputs": [],
   "source": [
    "rsync = 'rsync -a -P rsync://' + ftp + directory + files +' ' +destination + ' ;'\n",
    "\n"
   ]
  },
  {
   "cell_type": "code",
   "execution_count": null,
   "metadata": {},
   "outputs": [],
   "source": [
    "rsync[2]"
   ]
  },
  {
   "cell_type": "code",
   "execution_count": null,
   "metadata": {},
   "outputs": [],
   "source": [
    "string ='chr[0-9]|chrX|chrY.*.wigFix.gz'\n",
    "\n",
    "\n",
    "files =pd.Series(files)[pd.Series(files).str.contains(string)]"
   ]
  },
  {
   "cell_type": "code",
   "execution_count": null,
   "metadata": {},
   "outputs": [],
   "source": [
    "len(files)"
   ]
  },
  {
   "cell_type": "code",
   "execution_count": null,
   "metadata": {},
   "outputs": [],
   "source": [
    "'chr16.phyloP30way.wigFix.gz'.contains(string)"
   ]
  },
  {
   "cell_type": "code",
   "execution_count": null,
   "metadata": {},
   "outputs": [],
   "source": [
    "\n",
    "string ='chr[0-9]|chrX|chrY.*.wigFix.gz'\n",
    "\n",
    "files[-5:].str.contains(string,regex=True)"
   ]
  },
  {
   "cell_type": "code",
   "execution_count": null,
   "metadata": {},
   "outputs": [],
   "source": [
    "df = pd.DataFrame([[1,\"apple is delicious\"],[2,\"banana is delicious\"],[3,\"apple and banana both are delicious\"]],columns=('ID','String_Col'))\n",
    "\n",
    "df[df['String_Col'].str.contains(r'apple.*banana|banana.*apple')]\n",
    "\n"
   ]
  },
  {
   "cell_type": "code",
   "execution_count": 7,
   "metadata": {},
   "outputs": [
    {
     "ename": "NameError",
     "evalue": "name 'snakemake' is not defined",
     "output_type": "error",
     "traceback": [
      "\u001b[0;31m---------------------------------------------------------------------------\u001b[0m",
      "\u001b[0;31mNameError\u001b[0m                                 Traceback (most recent call last)",
      "\u001b[0;32m<ipython-input-7-e6db4f62089c>\u001b[0m in \u001b[0;36m<module>\u001b[0;34m\u001b[0m\n\u001b[0;32m----> 1\u001b[0;31m \u001b[0msnakemake\u001b[0m \u001b[0;34m-\u001b[0m\u001b[0mv\u001b[0m\u001b[0;34m\u001b[0m\u001b[0;34m\u001b[0m\u001b[0m\n\u001b[0m",
      "\u001b[0;31mNameError\u001b[0m: name 'snakemake' is not defined"
     ]
    }
   ],
   "source": [
    "snakemake -v"
   ]
  },
  {
   "cell_type": "code",
   "execution_count": null,
   "metadata": {},
   "outputs": [],
   "source": [
    "from ftplib import FTP\n",
    "import pandas as pd\n",
    "\n",
    "#link = snakemake.params.link\n",
    "link = 'http://hgdownload.soe.ucsc.edu/goldenPath/hg38/phyloP30way/hg38.30way.phyloP/'\n",
    "\n",
    "\n",
    "#filter_ = snakemake.params.filter\n",
    "#path = snakemake.output.path\n",
    "path = 'input/features/hg38/priPhyloP46way/'\n",
    "ftp = link.split('/', 3)[2]\n",
    "directory = '/' + link.split('/', 3)[3]\n",
    "\n",
    "f = FTP(ftp)\n",
    "f.login()\n",
    "rsync = 'rsync -a -P rsync://' + ftp\n",
    "f.cwd(directory)\n",
    "files = f.nlst()\n",
    "\n",
    "filter_ ='chr[0-9]|chrX|chrY.*.phyloP30way.wigFix.gz'\n",
    "files =pd.Series(files)[pd.Series(files).str.contains(filter_)]\n",
    "\n",
    "rsync = 'rsync -a -P rsync://' + ftp + directory + files +' ' + path + ' ;'\n",
    "\n",
    "with open(path+'rsync.txt', 'w') as f:\n",
    "    f.write(\"\\n\".join(str(item) for item in rsync))\n"
   ]
  },
  {
   "cell_type": "code",
   "execution_count": null,
   "metadata": {},
   "outputs": [],
   "source": [
    "p"
   ]
  },
  {
   "cell_type": "code",
   "execution_count": null,
   "metadata": {},
   "outputs": [],
   "source": [
    "from ftplib import FTP\n",
    "import pandas as pd\n",
    "import os\n",
    "#link = snakemake.params.link\n",
    "link = 'hgdownload.soe.ucsc.edu/goldenPath/hg38/phyloP30way/hg38.30way.phyloP/'\n",
    "\n",
    "filter_ ='chr[0-9]|chrX|chrY.*.phyloP30way.wigFix.gz'\n",
    "\n",
    "\n",
    "#filter_ = snakemake.params.filter\n",
    "#path = snakemake.output.path\n",
    "path = 'input/features/hg38/priPhyloP46way/rsync.txt'\n",
    "ftp = link.split('/', 1)[0]\n",
    "directory = '/' + link.split('/', 1)[1]\n",
    "\n",
    "f = FTP(ftp)\n",
    "f.login()\n",
    "rsync = 'rsync -a -P rsync://' + ftp\n",
    "f.cwd(directory)\n",
    "files = f.nlst()\n",
    "\n",
    "files =pd.Series(files)[pd.Series(files).str.contains(filter_)]\n",
    "\n",
    "rsync = 'rsync -a -P rsync://' + ftp + directory + files +' ' + './' + path.replace('rsync.txt','') + ' ;'\n",
    "p = os.getcwd()+'/' +path\n",
    "with open(p, 'w') as f:\n",
    "    f.write(\"\\n\".join(str(item) for item in rsync))\n"
   ]
  },
  {
   "cell_type": "code",
   "execution_count": null,
   "metadata": {},
   "outputs": [],
   "source": [
    "rsync[:1].to_list()"
   ]
  },
  {
   "cell_type": "code",
   "execution_count": null,
   "metadata": {},
   "outputs": [],
   "source": [
    "import os\n",
    "\n",
    "\n",
    "#command = snakemake.output.path.replace\n",
    "path = 'input/features/hg38/priPhyloP46way/rsync.txt'.replace('.txt','.sh')\n",
    "\n",
    "\n",
    "\n",
    "os.system('bash '+path)"
   ]
  },
  {
   "cell_type": "code",
   "execution_count": null,
   "metadata": {},
   "outputs": [],
   "source": [
    "filter_ ='chr[0-12]\\.'\n",
    "pd.Series(files)[pd.Series(files).str.contains(string)]\n",
    "filter_ = 'chr[0-24].phyloP30way.wigFix.gz'\n",
    "map(filter_.replace('chr[0-24]', s), CHROMS)"
   ]
  },
  {
   "cell_type": "code",
   "execution_count": null,
   "metadata": {},
   "outputs": [],
   "source": [
    "string = \"|\".join(['chr'+str(s)+'.phyloP30way.wigFix.gz'  for s in list(range(1,23))+['Y','X']])\n",
    "string"
   ]
  },
  {
   "cell_type": "code",
   "execution_count": null,
   "metadata": {},
   "outputs": [],
   "source": [
    "string = 'chr?phyloP30way.wigFix.gz'"
   ]
  },
  {
   "cell_type": "code",
   "execution_count": null,
   "metadata": {},
   "outputs": [],
   "source": [
    "import fnmatch\n",
    "filtered = fnmatch.filter(files, string)"
   ]
  },
  {
   "cell_type": "code",
   "execution_count": null,
   "metadata": {},
   "outputs": [],
   "source": [
    "fnmatch.filter(files, 'chr?.phyloP30way.wigFix.gz')+fnmatch.filter(files, 'chr??.phyloP30way.wigFix.gz')\n",
    "\n",
    "\n"
   ]
  },
  {
   "cell_type": "code",
   "execution_count": null,
   "metadata": {},
   "outputs": [],
   "source": [
    "import fnmatch\n",
    "f = ['RT07010534.txt', 'RT07010533.txt', 'RT02010534.txt']\n",
    "pattern = 'RT0701*.txt'\n",
    "matching = fnmatch.filter(l, pattern)\n",
    "print(matching)"
   ]
  },
  {
   "cell_type": "code",
   "execution_count": null,
   "metadata": {},
   "outputs": [],
   "source": [
    "CHROMS = ['chr'+str(s)  for s in list(range(1,23))+['Y','X']]\n"
   ]
  },
  {
   "cell_type": "code",
   "execution_count": null,
   "metadata": {},
   "outputs": [],
   "source": [
    "['chr'+str(s)  for s in list(range(1,23))+['Y','X']]"
   ]
  },
  {
   "cell_type": "code",
   "execution_count": null,
   "metadata": {},
   "outputs": [],
   "source": [
    "filter_.replace('chr[0-24]',CHROMS)"
   ]
  },
  {
   "cell_type": "code",
   "execution_count": null,
   "metadata": {},
   "outputs": [],
   "source": [
    "[filter_.replace('chr[0-24]',s) for s in CHROMS]"
   ]
  },
  {
   "cell_type": "code",
   "execution_count": null,
   "metadata": {},
   "outputs": [],
   "source": [
    "url = 'hgdownload.soe.ucsc.edu/goldenPath/hg38/phyloP30way/hg38.30way.phyloP/'\n",
    "filter_ ='chr[0-24].phyloP30way.wigFix.gz'\n",
    "path = 'input/features/hg38/priPhyloP46way/rsync.txt'\n",
    "\n",
    "CHROMS = ['chr'+str(s)  for s in list(range(1,23))+['Y','X']]\n",
    "\n",
    " \n",
    "#link = snakemake.params.url\n",
    "#filter_ = snakemake.params.filter\n",
    "#path = snakemake.output.path\n",
    "\n",
    "ftp = link.split('/', 1)[0]\n",
    "directory = '/' + link.split('/', 1)[1]\n",
    "filter_ = '|'.join([filter_.replace('chr[0-24]',s) for s in CHROMS])\n",
    "\n",
    "f = FTP(ftp)\n",
    "f.login()\n",
    "rsync = 'rsync -a -P rsync://' + ftp\n",
    "f.cwd(directory)\n",
    "files = f.nlst()\n",
    "\n",
    "files =pd.Series(files)[pd.Series(files).str.contains(filter_)]\n",
    "\n",
    "rsync = 'rsync -a -P rsync://' + ftp + directory + files +' ' + './' + path.replace('rsync.sh','') + ' ;'\n",
    "p = os.getcwd()+'/' +path\n",
    "with open(p, 'w') as f:\n",
    "    f.write(\"\\n\".join(str(item) for item in rsync))\n",
    "    \n",
    "    "
   ]
  },
  {
   "cell_type": "code",
   "execution_count": null,
   "metadata": {},
   "outputs": [],
   "source": [
    "config = \n",
    "def get_properties(d):\n",
    "    dd = []\n",
    "    for key, value in d.items():\n",
    "        dd.append(key + \" = \" + value)\n",
    "    return \" \\n\".join(dd[3:])\n",
    "\n"
   ]
  },
  {
   "cell_type": "code",
   "execution_count": null,
   "metadata": {},
   "outputs": [],
   "source": []
  }
 ],
 "metadata": {
  "kernelspec": {
   "display_name": "Python 3",
   "language": "python",
   "name": "python3"
  },
  "language_info": {
   "codemirror_mode": {
    "name": "ipython",
    "version": 3
   },
   "file_extension": ".py",
   "mimetype": "text/x-python",
   "name": "python",
   "nbconvert_exporter": "python",
   "pygments_lexer": "ipython3",
   "version": "3.8.3"
  }
 },
 "nbformat": 4,
 "nbformat_minor": 4
}
