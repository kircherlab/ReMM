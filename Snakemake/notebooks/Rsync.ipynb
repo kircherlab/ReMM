{
 "cells": [
  {
   "cell_type": "code",
   "execution_count": 19,
   "metadata": {},
   "outputs": [],
   "source": [
    "import pandas as pd\n",
    "import os\n",
    "#import pyreadr\n",
    "\n",
    "import numpy as np\n",
    "from ftplib import FTP\n",
    "\n",
    "    \n",
    "import os\n",
    "\n"
   ]
  },
  {
   "cell_type": "code",
   "execution_count": null,
   "metadata": {},
   "outputs": [],
   "source": [
    "df = pd.read_excel('Utils/Features.xlsx')\n",
    "\n",
    "#name = snakemake.params.name \n",
    "data_name = 'hg38'\n",
    "#rsync creates at most 1 missing directory\n",
    "os.system('mkdir input/' + 'Features' + '/' )\n",
    "os.system('mkdir input/Features/' + data_name + '/' )\n",
    "rsync_ = 'rsync -a -P rsync://'\n",
    "release = 'hg38'\n",
    "\n"
   ]
  },
  {
   "cell_type": "code",
   "execution_count": null,
   "metadata": {
    "scrolled": false
   },
   "outputs": [],
   "source": [
    "commands = []\n",
    "\n",
    "for i in range(len(df))[:]:\n",
    " #   print(i)\n",
    "    rsync_ = 'rsync -a -P rsync://'\n",
    "\n",
    "\n",
    "    link = df['Link Release ' + release][i]\n",
    "    if link==link :\n",
    "        ftp_new = link.split('/', 3)[2]\n",
    "        s = '/' + link.split('/', 3)[3]\n",
    "        # change ftp adress is not ucsc\n",
    "        if ftp!=ftp_new:\n",
    "            ftp= ftp_new\n",
    "            f = FTP(ftp)\n",
    "            f.login()\n",
    "        else:\n",
    "            pass\n",
    "        rsync = rsync_ + ftp\n",
    "        f.cwd(s)\n",
    "        if df['File name'][i]=='diverse':\n",
    "        #    print('-----------------------')\n",
    "            files = f.nlst()\n",
    "            string = df['Name_Rule'][i].replace(',','|').replace(' ','')\n",
    "            feature_files = pd.Series(files)[pd.Series(files).str.contains(string)]\n",
    "         #   print(len(feature_files))\n",
    "            for file in feature_files:\n",
    "              #  print(file)\n",
    "                command = rsync + s + file + ' ./input/' + data_name + '/' + df['ReMM_Name'][i]  + '/' + ' ;'\n",
    "                commands.append(command)\n",
    "            #    print(command)\n",
    "        else:\n",
    "            command =rsync + s + df['File name'][i]+ ' ./input/Features/' + data_name + '/' + df['ReMM_Name'][i]  + '/'  + ' ;'\n",
    "            commands.append(command)\n",
    "    else:\n",
    "\n",
    "        pass\n"
   ]
  },
  {
   "cell_type": "code",
   "execution_count": null,
   "metadata": {},
   "outputs": [],
   "source": [
    "url = 'hgdownload.soe.ucsc.edu/goldenPath/hg38/phyloP30way/hg38.30way.phyloP/'\n",
    "filter_ ='chr[0-24].phyloP30way.wigFix.gz'\n",
    "path = 'input/features/hg38/priPhyloP46way/rsync.txt'\n",
    "\n",
    "CHROMS = ['chr'+str(s)  for s in list(range(1,23))+['Y','X']]\n",
    "\n",
    " \n",
    "#link = snakemake.params.url\n",
    "#filter_ = snakemake.params.filter\n",
    "#path = snakemake.output.path\n",
    "\n",
    "ftp = link.split('/', 1)[0]\n",
    "directory = '/' + link.split('/', 1)[1]\n",
    "filter_ = '|'.join([filter_.replace('chr[0-24]',s) for s in CHROMS])\n",
    "\n",
    "f = FTP(ftp)\n",
    "f.login()\n",
    "rsync = 'rsync -a -P rsync://' + ftp\n",
    "f.cwd(directory)\n",
    "files = f.nlst()\n",
    "\n",
    "files =pd.Series(files)[pd.Series(files).str.contains(filter_)]\n",
    "\n",
    "rsync = 'rsync -a -P rsync://' + ftp + directory + files +' ' + './' + path.replace('rsync.sh','') + ' ;'\n",
    "p = os.getcwd()+'/' +path\n",
    "with open(p, 'w') as f:\n",
    "    f.write(\"\\n\".join(str(item) for item in rsync))\n",
    "    \n",
    "    "
   ]
  },
  {
   "cell_type": "code",
   "execution_count": null,
   "metadata": {},
   "outputs": [],
   "source": []
  }
 ],
 "metadata": {
  "hide_input": false,
  "kernelspec": {
   "display_name": "Python 3",
   "language": "python",
   "name": "python3"
  },
  "language_info": {
   "codemirror_mode": {
    "name": "ipython",
    "version": 3
   },
   "file_extension": ".py",
   "mimetype": "text/x-python",
   "name": "python",
   "nbconvert_exporter": "python",
   "pygments_lexer": "ipython3",
   "version": "3.8.6"
  },
  "toc": {
   "base_numbering": 1,
   "nav_menu": {},
   "number_sections": true,
   "sideBar": true,
   "skip_h1_title": false,
   "title_cell": "Table of Contents",
   "title_sidebar": "Contents",
   "toc_cell": false,
   "toc_position": {},
   "toc_section_display": true,
   "toc_window_display": false
  },
  "varInspector": {
   "cols": {
    "lenName": 16,
    "lenType": 16,
    "lenVar": 40
   },
   "kernels_config": {
    "python": {
     "delete_cmd_postfix": "",
     "delete_cmd_prefix": "del ",
     "library": "var_list.py",
     "varRefreshCmd": "print(var_dic_list())"
    },
    "r": {
     "delete_cmd_postfix": ") ",
     "delete_cmd_prefix": "rm(",
     "library": "var_list.r",
     "varRefreshCmd": "cat(var_dic_list()) "
    }
   },
   "types_to_exclude": [
    "module",
    "function",
    "builtin_function_or_method",
    "instance",
    "_Feature"
   ],
   "window_display": false
  }
 },
 "nbformat": 4,
 "nbformat_minor": 4
}
