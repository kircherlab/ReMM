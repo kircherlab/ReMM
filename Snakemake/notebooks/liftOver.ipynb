{
 "cells": [
  {
   "cell_type": "code",
   "execution_count": 1,
   "metadata": {},
   "outputs": [],
   "source": [
    "import pandas as pd\n",
    "pd.set_option('display.max_rows', 20)\n",
    "pd.set_option('max_colwidth', 500)"
   ]
  },
  {
   "cell_type": "code",
   "execution_count": 3,
   "metadata": {},
   "outputs": [],
   "source": [
    "import difflib\n"
   ]
  },
  {
   "cell_type": "code",
   "execution_count": 4,
   "metadata": {},
   "outputs": [],
   "source": [
    "import pandas as pd\n",
    "from pyfaidx import Fasta\n",
    "import difflib\n",
    "\n",
    "\n",
    "hg38 = Fasta('/fast/projects/cubit/current/static_data/reference/GRCh38/hs38/hs38.fa',\n",
    "               one_based_attributes=False )\n",
    "hg37 = Fasta('/fast/projects/cubit/current/static_data/reference/GRCh37/hs37/hs37.fa',\n",
    "               one_based_attributes=False )\n",
    "\n",
    "file = 'input/variants/hg38/SNVs.lifted.to.hg38.all.20160109.bed.gz'\n",
    "var = pd.read_csv(file, sep = '\\t', header = None)\n",
    "\n",
    "ref_hg38 = []\n",
    "diffs = []\n",
    "for i in range(len(var)):\n",
    "    ref = hg38[var[0][i]][var[1][i]:var[2][i]].seq\n",
    "\n",
    "\n",
    "    ref_int_hg38 = hg38[var[0][i]][var[1][i]-5:var[2][i]+5].seq\n",
    "    p = int(var[3][i].split(':')[1])\n",
    "    ref_int_hg37 = hg37[var[0][i][3:]][p-1-50:p+50].seq\n",
    "    #diff= sum([i[0] != ' '  for i in difflib.ndiff(ref_int_hg38, ref_int_hg37)]) / 2\n",
    "    diff = sum([int(i!=j) for i,j in zip(ref_int_hg38,ref_int_hg37)])\n",
    "    diffs.append(1-diff/101)\n",
    "    ref_hg38.append(ref)\n",
    "    \n",
    "    \n",
    "ref_hg37 = var[3].str.split(':', expand = True)[2]\n",
    "# alternative variants\n",
    "alt= var[3].str.split(':', expand = True)[3]\n",
    "var[5]=ref_hg38\n",
    "var[6]=diffs\n",
    "var[7] = alt\n",
    "# exclude variants that are not alternative any more\n",
    "new_var = var[ref_hg38!=alt]\n",
    "\n",
    "\n",
    "new_var = new_var[[0,1,2,5,7,3]]\n",
    "#new_var.to_csv('input/variants/SNVs.lifted.to.hg38.checked.all.20160109.bed.gz',  compression=\"gzip\", sep = '\\t', index = None, header = None)\n",
    "\n"
   ]
  },
  {
   "cell_type": "code",
   "execution_count": 26,
   "metadata": {
    "scrolled": true
   },
   "outputs": [],
   "source": [
    "#new_var[new_var[6]!=1]"
   ]
  },
  {
   "cell_type": "code",
   "execution_count": 5,
   "metadata": {},
   "outputs": [
    {
     "data": {
      "text/html": [
       "<div>\n",
       "<style scoped>\n",
       "    .dataframe tbody tr th:only-of-type {\n",
       "        vertical-align: middle;\n",
       "    }\n",
       "\n",
       "    .dataframe tbody tr th {\n",
       "        vertical-align: top;\n",
       "    }\n",
       "\n",
       "    .dataframe thead th {\n",
       "        text-align: right;\n",
       "    }\n",
       "</style>\n",
       "<table border=\"1\" class=\"dataframe\">\n",
       "  <thead>\n",
       "    <tr style=\"text-align: right;\">\n",
       "      <th></th>\n",
       "      <th>0</th>\n",
       "      <th>1</th>\n",
       "      <th>2</th>\n",
       "      <th>3</th>\n",
       "      <th>5</th>\n",
       "      <th>6</th>\n",
       "      <th>7</th>\n",
       "    </tr>\n",
       "  </thead>\n",
       "  <tbody>\n",
       "    <tr>\n",
       "      <th>0</th>\n",
       "      <td>chr1</td>\n",
       "      <td>7961858</td>\n",
       "      <td>7961859</td>\n",
       "      <td>chr1:8021919:C:G</td>\n",
       "      <td>C</td>\n",
       "      <td>0.910891</td>\n",
       "      <td>G</td>\n",
       "    </tr>\n",
       "    <tr>\n",
       "      <th>1</th>\n",
       "      <td>chr1</td>\n",
       "      <td>9943501</td>\n",
       "      <td>9943502</td>\n",
       "      <td>chr1:10003560:A:T</td>\n",
       "      <td>A</td>\n",
       "      <td>0.910891</td>\n",
       "      <td>T</td>\n",
       "    </tr>\n",
       "    <tr>\n",
       "      <th>2</th>\n",
       "      <td>chr1</td>\n",
       "      <td>9943502</td>\n",
       "      <td>9943503</td>\n",
       "      <td>chr1:10003561:C:T</td>\n",
       "      <td>C</td>\n",
       "      <td>0.910891</td>\n",
       "      <td>T</td>\n",
       "    </tr>\n",
       "    <tr>\n",
       "      <th>3</th>\n",
       "      <td>chr1</td>\n",
       "      <td>11023350</td>\n",
       "      <td>11023351</td>\n",
       "      <td>chr1:11083408:G:A</td>\n",
       "      <td>G</td>\n",
       "      <td>0.930693</td>\n",
       "      <td>A</td>\n",
       "    </tr>\n",
       "    <tr>\n",
       "      <th>4</th>\n",
       "      <td>chr1</td>\n",
       "      <td>21509426</td>\n",
       "      <td>21509427</td>\n",
       "      <td>chr1:21835920:C:T</td>\n",
       "      <td>C</td>\n",
       "      <td>0.910891</td>\n",
       "      <td>T</td>\n",
       "    </tr>\n",
       "    <tr>\n",
       "      <th>...</th>\n",
       "      <td>...</td>\n",
       "      <td>...</td>\n",
       "      <td>...</td>\n",
       "      <td>...</td>\n",
       "      <td>...</td>\n",
       "      <td>...</td>\n",
       "      <td>...</td>\n",
       "    </tr>\n",
       "    <tr>\n",
       "      <th>448</th>\n",
       "      <td>chrX</td>\n",
       "      <td>155022770</td>\n",
       "      <td>155022771</td>\n",
       "      <td>chrX:154251046:G:A</td>\n",
       "      <td>G</td>\n",
       "      <td>0.900990</td>\n",
       "      <td>A</td>\n",
       "    </tr>\n",
       "    <tr>\n",
       "      <th>449</th>\n",
       "      <td>chrX</td>\n",
       "      <td>155022772</td>\n",
       "      <td>155022773</td>\n",
       "      <td>chrX:154251048:A:T</td>\n",
       "      <td>A</td>\n",
       "      <td>0.910891</td>\n",
       "      <td>T</td>\n",
       "    </tr>\n",
       "    <tr>\n",
       "      <th>450</th>\n",
       "      <td>chrX</td>\n",
       "      <td>155022806</td>\n",
       "      <td>155022807</td>\n",
       "      <td>chrX:154251082:T:C</td>\n",
       "      <td>T</td>\n",
       "      <td>0.930693</td>\n",
       "      <td>C</td>\n",
       "    </tr>\n",
       "    <tr>\n",
       "      <th>451</th>\n",
       "      <td>chrX</td>\n",
       "      <td>155022808</td>\n",
       "      <td>155022809</td>\n",
       "      <td>chrX:154251084:A:C</td>\n",
       "      <td>A</td>\n",
       "      <td>0.930693</td>\n",
       "      <td>C</td>\n",
       "    </tr>\n",
       "    <tr>\n",
       "      <th>452</th>\n",
       "      <td>chrY</td>\n",
       "      <td>2787677</td>\n",
       "      <td>2787678</td>\n",
       "      <td>chrY:2655719:C:T</td>\n",
       "      <td>C</td>\n",
       "      <td>0.900990</td>\n",
       "      <td>T</td>\n",
       "    </tr>\n",
       "  </tbody>\n",
       "</table>\n",
       "<p>453 rows × 7 columns</p>\n",
       "</div>"
      ],
      "text/plain": [
       "        0          1          2                   3  5         6  7\n",
       "0    chr1    7961858    7961859    chr1:8021919:C:G  C  0.910891  G\n",
       "1    chr1    9943501    9943502   chr1:10003560:A:T  A  0.910891  T\n",
       "2    chr1    9943502    9943503   chr1:10003561:C:T  C  0.910891  T\n",
       "3    chr1   11023350   11023351   chr1:11083408:G:A  G  0.930693  A\n",
       "4    chr1   21509426   21509427   chr1:21835920:C:T  C  0.910891  T\n",
       "..    ...        ...        ...                 ... ..       ... ..\n",
       "448  chrX  155022770  155022771  chrX:154251046:G:A  G  0.900990  A\n",
       "449  chrX  155022772  155022773  chrX:154251048:A:T  A  0.910891  T\n",
       "450  chrX  155022806  155022807  chrX:154251082:T:C  T  0.930693  C\n",
       "451  chrX  155022808  155022809  chrX:154251084:A:C  A  0.930693  C\n",
       "452  chrY    2787677    2787678    chrY:2655719:C:T  C  0.900990  T\n",
       "\n",
       "[453 rows x 7 columns]"
      ]
     },
     "execution_count": 5,
     "metadata": {},
     "output_type": "execute_result"
    }
   ],
   "source": [
    "var "
   ]
  },
  {
   "cell_type": "code",
   "execution_count": 21,
   "metadata": {},
   "outputs": [
    {
     "data": {
      "text/plain": [
       "-416"
      ]
     },
     "execution_count": 21,
     "metadata": {},
     "output_type": "execute_result"
    }
   ],
   "source": [
    "len(var[var[5].str.len()>1])-len(var)"
   ]
  },
  {
   "cell_type": "code",
   "execution_count": 43,
   "metadata": {},
   "outputs": [
    {
     "data": {
      "text/plain": [
       "0.9370629370629371"
      ]
     },
     "execution_count": 43,
     "metadata": {},
     "output_type": "execute_result"
    }
   ],
   "source": [
    "\n",
    "new_var[6].median()\n"
   ]
  },
  {
   "cell_type": "code",
   "execution_count": 34,
   "metadata": {},
   "outputs": [
    {
     "name": "stdout",
     "output_type": "stream",
     "text": [
      "6\n",
      "1.0\n",
      "1.0\n"
     ]
    }
   ],
   "source": [
    "from scipy.spatial import distance\n",
    "a = 'jmjkhk'\n",
    "b = 'mjkhkj'\n",
    "print(sum([int(i!=j) for i,j in zip(a,b)]))\n",
    "print(sum([i[0] != ' '  for i in difflib.ndiff(a,b )])/2 )\n",
    "print(distance.jaccard(a,b))"
   ]
  },
  {
   "cell_type": "code",
   "execution_count": 33,
   "metadata": {},
   "outputs": [
    {
     "name": "stderr",
     "output_type": "stream",
     "text": [
      "/fast/users/nazaretl_c/work/miniconda/envs/jupyter/lib/python3.8/site-packages/scipy/spatial/distance.py:881: FutureWarning: elementwise comparison failed; returning scalar instead, but in the future will perform elementwise comparison\n",
      "  nonzero = np.bitwise_or(u != 0, v != 0)\n"
     ]
    },
    {
     "data": {
      "text/plain": [
       "1.0"
      ]
     },
     "execution_count": 33,
     "metadata": {},
     "output_type": "execute_result"
    }
   ],
   "source": [
    "a = 'jmjkhk'\n",
    "b = 'mjkhkj'\n",
    "\n",
    "distance.jaccard(a,b)"
   ]
  },
  {
   "cell_type": "code",
   "execution_count": null,
   "metadata": {},
   "outputs": [],
   "source": []
  }
 ],
 "metadata": {
  "kernelspec": {
   "display_name": "Python 3",
   "language": "python",
   "name": "python3"
  },
  "language_info": {
   "codemirror_mode": {
    "name": "ipython",
    "version": 3
   },
   "file_extension": ".py",
   "mimetype": "text/x-python",
   "name": "python",
   "nbconvert_exporter": "python",
   "pygments_lexer": "ipython3",
   "version": "3.8.3"
  }
 },
 "nbformat": 4,
 "nbformat_minor": 4
}
