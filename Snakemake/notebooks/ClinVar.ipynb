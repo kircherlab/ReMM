{
 "cells": [
  {
   "cell_type": "code",
   "execution_count": 9,
   "id": "taken-bearing",
   "metadata": {
    "ExecuteTime": {
     "end_time": "2021-03-08T14:21:33.832308Z",
     "start_time": "2021-03-08T14:21:33.822905Z"
    }
   },
   "outputs": [],
   "source": [
    "import pandas as pd\n",
    "import os\n",
    "os.chdir('/fast/work/groups/ag_kircher/ReMM/MA_Lusi/Snakemake')\n",
    "\n",
    "pd.set_option('display.max_columns', 999)\n",
    "pd.set_option('display.max_rows', 999)"
   ]
  },
  {
   "cell_type": "code",
   "execution_count": 23,
   "id": "boolean-zimbabwe",
   "metadata": {},
   "outputs": [
    {
     "name": "stderr",
     "output_type": "stream",
     "text": [
      "/fast/users/nazaretl_c/work/miniconda/envs/jupyter/lib/python3.8/site-packages/IPython/core/interactiveshell.py:3155: DtypeWarning: Columns (18) have mixed types.Specify dtype option on import or set low_memory=False.\n",
      "  has_raised = await self.run_ast_nodes(code_ast.body, cell_name,\n"
     ]
    }
   ],
   "source": [
    "df = pd.read_csv('ClinVar/variant_summary_2021-02.txt.gz',sep = '\\t')\n",
    "df['ClinicalSignificance'].value_counts()\n",
    "f = df[(df['Type']=='single nucleotide variant')&(df['ClinicalSignificance'].str.contains('Pathogenic|pathogenic'))&(df['Assembly']=='GRCh38')]\n",
    "f['ClinicalSignificance'].value_counts()"
   ]
  },
  {
   "cell_type": "code",
   "execution_count": 6,
   "id": "architectural-lawrence",
   "metadata": {
    "ExecuteTime": {
     "end_time": "2021-03-08T14:15:44.933750Z",
     "start_time": "2021-03-08T14:15:44.925546Z"
    }
   },
   "outputs": [],
   "source": [
    "#PU learning is a special case when one of your classes has no error. \n",
    "#P stands for the positive class and is assumed to have zero label errors and U stands for unlabeled data, \n",
    "#but in practice, we just assume the U class is a noisy negative class that contains some positive examples\n",
    "\n",
    "#from cleanlab.classification import LearningWithNoisyLabels\n",
    "from sklearn.linear_model import LogisticRegression\n",
    "# Wrap around any classifier. Yup, you can use sklearn/pyTorch/Tensorflow/FastText/etc.\n",
    "pu_class = 1 # Should be 0 or 1. Label of class with NO ERRORS. (e.g., P class in PU)\n",
    "lnl = LearningWithNoisyLabels(clf=LogisticRegression(), pulearning=pu_class)\n",
    "lnl.fit(X=X_train_data, s=train_noisy_labels)\n",
    "# Estimate the predictions you would have gotten by training with *no* label errors.\n",
    "predicted_test_labels = lnl.predict(X_test)"
   ]
  },
  {
   "cell_type": "code",
   "execution_count": null,
   "id": "polyphonic-tuesday",
   "metadata": {
    "ExecuteTime": {
     "start_time": "2021-03-08T14:21:36.638Z"
    }
   },
   "outputs": [],
   "source": [
    "df = pd.read_csv('output/features/annotated/hg38/SNVs.hg38.combined.txt.gz',sep  = '\\t')"
   ]
  },
  {
   "cell_type": "code",
   "execution_count": 27,
   "id": "patent-scottish",
   "metadata": {},
   "outputs": [
    {
     "data": {
      "text/plain": [
       "Pathogenic                                                                47124\n",
       "Conflicting interpretations of pathogenicity                              40899\n",
       "Likely pathogenic                                                         28072\n",
       "Pathogenic/Likely pathogenic                                               6086\n",
       "Pathogenic, other                                                            88\n",
       "Pathogenic, risk factor                                                      28\n",
       "Pathogenic, drug response                                                    26\n",
       "Conflicting interpretations of pathogenicity, other                          20\n",
       "Conflicting interpretations of pathogenicity, risk factor                     9\n",
       "Pathogenic/Likely pathogenic, drug response                                   9\n",
       "Likely pathogenic, drug response                                              8\n",
       "Likely pathogenic, risk factor                                                8\n",
       "Pathogenic, Affects                                                           8\n",
       "Pathogenic, association                                                       7\n",
       "Pathogenic/Likely pathogenic, other                                           6\n",
       "Pathogenic/Likely pathogenic, risk factor                                     5\n",
       "Pathogenic, protective                                                        3\n",
       "Conflicting interpretations of pathogenicity, other, risk factor              3\n",
       "Conflicting interpretations of pathogenicity, association                     3\n",
       "Likely pathogenic, other                                                      2\n",
       "Conflicting interpretations of pathogenicity, association, risk factor        2\n",
       "Pathogenic, association, protective                                           1\n",
       "Pathogenic, drug response, protective, risk factor                            1\n",
       "Pathogenic/Likely pathogenic, association                                     1\n",
       "Likely pathogenic, Affects                                                    1\n",
       "Conflicting interpretations of pathogenicity, Affects                         1\n",
       "Conflicting interpretations of pathogenicity, drug response                   1\n",
       "Pathogenic, drug response, other                                              1\n",
       "Conflicting interpretations of pathogenicity, protective                      1\n",
       "Likely pathogenic, association                                                1\n",
       "Name: ClinicalSignificance, dtype: int64"
      ]
     },
     "execution_count": 27,
     "metadata": {},
     "output_type": "execute_result"
    }
   ],
   "source": [
    "f['ClinicalSignificance'].value_counts()"
   ]
  },
  {
   "cell_type": "code",
   "execution_count": null,
   "id": "complex-status",
   "metadata": {},
   "outputs": [],
   "source": []
  }
 ],
 "metadata": {
  "hide_input": false,
  "kernelspec": {
   "display_name": "Python 3",
   "language": "python",
   "name": "python3"
  },
  "language_info": {
   "codemirror_mode": {
    "name": "ipython",
    "version": 3
   },
   "file_extension": ".py",
   "mimetype": "text/x-python",
   "name": "python",
   "nbconvert_exporter": "python",
   "pygments_lexer": "ipython3",
   "version": "3.8.6"
  },
  "toc": {
   "base_numbering": 1,
   "nav_menu": {},
   "number_sections": true,
   "sideBar": true,
   "skip_h1_title": false,
   "title_cell": "Table of Contents",
   "title_sidebar": "Contents",
   "toc_cell": false,
   "toc_position": {},
   "toc_section_display": true,
   "toc_window_display": false
  },
  "varInspector": {
   "cols": {
    "lenName": 16,
    "lenType": 16,
    "lenVar": 40
   },
   "kernels_config": {
    "python": {
     "delete_cmd_postfix": "",
     "delete_cmd_prefix": "del ",
     "library": "var_list.py",
     "varRefreshCmd": "print(var_dic_list())"
    },
    "r": {
     "delete_cmd_postfix": ") ",
     "delete_cmd_prefix": "rm(",
     "library": "var_list.r",
     "varRefreshCmd": "cat(var_dic_list()) "
    }
   },
   "types_to_exclude": [
    "module",
    "function",
    "builtin_function_or_method",
    "instance",
    "_Feature"
   ],
   "window_display": false
  }
 },
 "nbformat": 4,
 "nbformat_minor": 5
}
