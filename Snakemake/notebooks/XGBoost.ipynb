{
 "cells": [
  {
   "cell_type": "code",
   "execution_count": 1,
   "metadata": {},
   "outputs": [],
   "source": [
    "import pandas as pd\n",
    "from imblearn.over_sampling import SMOTE\n",
    "from imblearn.under_sampling import RandomUnderSampler\n",
    "from imblearn.over_sampling import KMeansSMOTE\n",
    "import numpy as np\n",
    "from collections import Counter"
   ]
  },
  {
   "cell_type": "code",
   "execution_count": null,
   "metadata": {},
   "outputs": [],
   "source": []
  },
  {
   "cell_type": "code",
   "execution_count": 3,
   "metadata": {},
   "outputs": [],
   "source": [
    "folds = pd.read_csv('output/features/annotated/hg38/SNVs.hg38.folds.txt',sep = '\\t',header = None )\n",
    "#ind = folds[folds[0]!=0].index\n",
    "df = pd.read_csv('output/features/annotated/hg38/SNVs.hg38.combined.txt.gz',sep = '\\t',header = None   )\n",
    "df['fold']=folds\n",
    "\n",
    "#df[df[0]==1]\n",
    "pos = df[df[0]==1]\n"
   ]
  },
  {
   "cell_type": "code",
   "execution_count": null,
   "metadata": {},
   "outputs": [],
   "source": [
    "df_test = pd.DataFrame()\n",
    "l_test = []"
   ]
  },
  {
   "cell_type": "code",
   "execution_count": 64,
   "metadata": {
    "scrolled": false
   },
   "outputs": [
    {
     "name": "stdout",
     "output_type": "stream",
     "text": [
      "0 ----------------------------------\n",
      "Counter({0: 2436, 1: 812})\n",
      "Baseline model - training accuracy xgboost: 96.92%\n",
      "Baseline model - hold-out accuracy xgboost: 97.39%\n",
      "Cross-validation accuracy xgboost: 96.42%\n",
      "1 ----------------------------------\n",
      "Counter({0: 2436, 1: 812})\n",
      "Baseline model - training accuracy xgboost: 97.56%\n",
      "Baseline model - hold-out accuracy xgboost: 97.67%\n",
      "Cross-validation accuracy xgboost: 97.15%\n",
      "97.38300492610837\n",
      "2 ----------------------------------\n",
      "Counter({0: 2436, 1: 812})\n",
      "Baseline model - training accuracy xgboost: 97.20%\n",
      "Baseline model - hold-out accuracy xgboost: 96.92%\n",
      "Cross-validation accuracy xgboost: 96.69%\n",
      "97.41379310344827\n",
      "3 ----------------------------------\n",
      "Counter({0: 2436, 1: 812})\n",
      "Baseline model - training accuracy xgboost: 97.20%\n",
      "Baseline model - hold-out accuracy xgboost: 97.20%\n",
      "Cross-validation accuracy xgboost: 97.15%\n",
      "97.04433497536947\n",
      "4 ----------------------------------\n",
      "Counter({0: 2436, 1: 812})\n",
      "Baseline model - training accuracy xgboost: 97.06%\n",
      "Baseline model - hold-out accuracy xgboost: 97.11%\n",
      "Cross-validation accuracy xgboost: 96.51%\n",
      "97.29064039408867\n",
      "5 ----------------------------------\n",
      "Counter({0: 2436, 1: 812})\n",
      "Baseline model - training accuracy xgboost: 97.70%\n",
      "Baseline model - hold-out accuracy xgboost: 96.08%\n",
      "Cross-validation accuracy xgboost: 97.33%\n",
      "97.19827586206897\n",
      "6 ----------------------------------\n",
      "Counter({0: 2436, 1: 812})\n",
      "Baseline model - training accuracy xgboost: 97.20%\n",
      "Baseline model - hold-out accuracy xgboost: 97.20%\n",
      "Cross-validation accuracy xgboost: 96.92%\n",
      "96.76724137931035\n",
      "7 ----------------------------------\n",
      "Counter({0: 2436, 1: 812})\n",
      "Baseline model - training accuracy xgboost: 97.70%\n",
      "Baseline model - hold-out accuracy xgboost: 97.67%\n",
      "Cross-validation accuracy xgboost: 97.38%\n",
      "97.35221674876847\n",
      "8 ----------------------------------\n",
      "Counter({0: 2436, 1: 812})\n",
      "Baseline model - training accuracy xgboost: 97.52%\n",
      "Baseline model - hold-out accuracy xgboost: 96.83%\n",
      "Cross-validation accuracy xgboost: 96.92%\n",
      "97.35221674876847\n",
      "9 ----------------------------------\n",
      "Counter({0: 2436, 1: 812})\n",
      "Baseline model - training accuracy xgboost: 97.56%\n",
      "Baseline model - hold-out accuracy xgboost: 97.11%\n",
      "Cross-validation accuracy xgboost: 97.06%\n",
      "97.25985221674877\n"
     ]
    }
   ],
   "source": [
    "for f in range(10):\n",
    "    if f >0:\n",
    "        x_test =  x.features\n",
    "        y_test = x.labels\n",
    "    print(f,\"----------------------------------\")\n",
    "    \n",
    "    neg = df[df[0]==0]\n",
    "    neg = neg[neg['fold']==f]\n",
    "    pos = df[df[0]==1]\n",
    "    df0 = pos.append(neg)\n",
    "\n",
    "    X = df0.iloc[:,4:].apply(lambda x: x.replace(np.nan,0))#.values\n",
    "    y = df0[0]\n",
    "\n",
    "#    df0 = df[df['fold']==f]\n",
    "#    neg = df0[df0[0]==0]\n",
    "#    pos = df0[df0[0]==1]\n",
    "#   df1 = pos.append(neg)\n",
    "#    X = df1.iloc[:,4:].apply(lambda x: x.replace(np.nan,0))#.values\n",
    "#    y = df1[0]\n",
    "   \n",
    "    p = pos.shape[0]*2\n",
    "    n = p*3\n",
    "    rus = RandomUnderSampler(sampling_strategy = {0:n})\n",
    "    smote = KMeansSMOTE(sampling_strategy = {1:p})\n",
    "\n",
    "    # downsample the neagtives\n",
    "    Xn,yn = rus.fit_resample(X,y)\n",
    "    X = Xn.append(pos.iloc[:,4:]).apply(lambda x: x.replace(np.nan,0))\n",
    "    y = yn.append(pos[0])\n",
    "    \n",
    "    # upsample teh positives\n",
    "    X_,y_ = smote.fit_resample(X,y)\n",
    "    print(Counter(y))\n",
    "    \n",
    "    # prepare the datacet \n",
    "    dataset = X_.drop(columns = 'fold')\n",
    "    dataset[label] = y_.values\n",
    "    dataset = dataset.set_index(label, drop = True)\n",
    "    # run the model\n",
    "    x = XGBoost(predictor,dataset,param_dict,label)\n",
    "    x.fit_xgboost()\n",
    "    x.cross_validation()\n",
    "    \n",
    "    if f >0:\n",
    "        print(accuracy_score(x.get_predictions(x_test), y_test)*100)\n",
    "    \n",
    "    "
   ]
  },
  {
   "cell_type": "code",
   "execution_count": 65,
   "metadata": {},
   "outputs": [
    {
     "data": {
      "text/plain": [
       "Counter({1: 2907238, 0: 10995402})"
      ]
     },
     "execution_count": 65,
     "metadata": {},
     "output_type": "execute_result"
    }
   ],
   "source": [
    "X_all = df.iloc[:,4:30]\n",
    "y_all = df[0]\n",
    "\n",
    "prob = x.get_probabilities(X_all)\n",
    "pred = x.get_predictions(X_all)\n",
    "\n",
    "Counter(pred)"
   ]
  },
  {
   "cell_type": "code",
   "execution_count": null,
   "metadata": {},
   "outputs": [],
   "source": [
    "#pd.DataFrame(prob[:,1])"
   ]
  },
  {
   "cell_type": "code",
   "execution_count": 18,
   "metadata": {},
   "outputs": [],
   "source": [
    "file = 'output/predictions/hg38/SNVs.hg38.predictions.txt'\n",
    "ps = pd.read_csv(file, sep='\\t',header = None)\n",
    "ps_pred = ps.idxmax(axis =1)\n",
    "Counter(ps_pred)"
   ]
  },
  {
   "cell_type": "code",
   "execution_count": null,
   "metadata": {},
   "outputs": [],
   "source": [
    "eval(y_all,ps,ps_pred)"
   ]
  },
  {
   "cell_type": "code",
   "execution_count": 54,
   "metadata": {},
   "outputs": [
    {
     "name": "stdout",
     "output_type": "stream",
     "text": [
      "Baseline model - training accuracy xgboost: 91.97%\n",
      "Baseline model - hold-out accuracy xgboost: 91.18%\n",
      "Cross-validation accuracy xgboost: 86.14%\n",
      "Counter({0: 13413900, 1: 488740})\n",
      "Baseline model - training accuracy xgboost: 96.35%\n",
      "Baseline model - hold-out accuracy xgboost: 89.71%\n",
      "Cross-validation accuracy xgboost: 89.74%\n",
      "Counter({0: 13416665, 1: 485975})\n",
      "Baseline model - training accuracy xgboost: 90.51%\n",
      "Baseline model - hold-out accuracy xgboost: 85.29%\n",
      "Cross-validation accuracy xgboost: 89.10%\n",
      "Counter({0: 13774805, 1: 127835})\n",
      "Baseline model - training accuracy xgboost: 97.08%\n",
      "Baseline model - hold-out accuracy xgboost: 85.29%\n",
      "Cross-validation accuracy xgboost: 90.53%\n",
      "Counter({0: 12895215, 1: 1007425})\n",
      "Baseline model - training accuracy xgboost: 92.70%\n",
      "Baseline model - hold-out accuracy xgboost: 82.35%\n",
      "Cross-validation accuracy xgboost: 87.49%\n",
      "Counter({0: 12042639, 1: 1860001})\n",
      "Baseline model - training accuracy xgboost: 93.43%\n",
      "Baseline model - hold-out accuracy xgboost: 88.24%\n",
      "Cross-validation accuracy xgboost: 86.80%\n",
      "Counter({0: 12329306, 1: 1573334})\n",
      "Baseline model - training accuracy xgboost: 89.05%\n",
      "Baseline model - hold-out accuracy xgboost: 91.18%\n",
      "Cross-validation accuracy xgboost: 87.62%\n",
      "Counter({0: 12282736, 1: 1619904})\n"
     ]
    }
   ],
   "source": [
    "for i in [0.5,1,2,3,5,10,20]:\n",
    "    dataset = X.drop(columns = 'fold')\n",
    "    dataset[label] = y.values\n",
    "    dataset = dataset.set_index(label, drop = True)\n",
    "    # run the model\n",
    "    x = XGBoost(predictor,dataset,param_dict,label)\n",
    "    x.fit_xgboost(spw = i)\n",
    "    x.cross_validation()\n",
    "\n",
    "    X_all = df.iloc[:,4:30]\n",
    "    y_all = df[0]\n",
    "\n",
    "    prob = x.get_probabilities(X_all)\n",
    "    pred = x.get_predictions(X_all)\n",
    "    print(Counter(pred))"
   ]
  },
  {
   "cell_type": "code",
   "execution_count": 45,
   "metadata": {},
   "outputs": [
    {
     "data": {
      "text/plain": [
       "Counter({0: 13812905, 1: 89735})"
      ]
     },
     "execution_count": 45,
     "metadata": {},
     "output_type": "execute_result"
    }
   ],
   "source": [
    "Counter(pred)"
   ]
  },
  {
   "cell_type": "code",
   "execution_count": 46,
   "metadata": {},
   "outputs": [
    {
     "name": "stdout",
     "output_type": "stream",
     "text": [
      "[('presision', 0.021583663087859428), ('recall', 0.8232889634210251), ('accuracy', 0.993534537325285), ('f score', 0.00281780765689309), ('roc', 0.9492731240882021)]\n"
     ]
    },
    {
     "data": {
      "image/png": "[encoded data removed]",
      "text/plain": [
       "<Figure size 432x288 with 1 Axes>"
      ]
     },
     "metadata": {
      "needs_background": "light"
     },
     "output_type": "display_data"
    },
    {
     "data": {
      "image/png": "[encoded data removed]",
      "text/plain": [
       "<Figure size 432x288 with 1 Axes>"
      ]
     },
     "metadata": {
      "needs_background": "light"
     },
     "output_type": "display_data"
    }
   ],
   "source": [
    "eval(y_all,pd.DataFrame(prob[:,1]),pred)"
   ]
  },
  {
   "cell_type": "code",
   "execution_count": 10,
   "metadata": {},
   "outputs": [],
   "source": [
    "param_dict = {'multi':{'objective':'multi:softmax',\n",
    "                     'eval_metric':['merror','mlogloss']},\n",
    "            'binary':{'objective':'binary:logistic',\n",
    "            'eval_metric':['error','logloss']}}\n",
    "\n",
    "predictor = 'xgboost'\n",
    "label = 'pathogenicity'\n",
    "\n",
    "#param_dict = {'multi':{'objective':'multi:softmax',\n",
    "#                     'eval_metric':['aucpr']},\n",
    "#            'binary':{'objective':'binary:logistic',\n",
    "#            'eval_metric':['aucpr']}}\n"
   ]
  },
  {
   "cell_type": "code",
   "execution_count": 52,
   "metadata": {},
   "outputs": [],
   "source": [
    "#import utils as u\n",
    "import numpy as np\n",
    "import pandas as pd\n",
    "\n",
    "\n",
    "from xgboost import XGBClassifier\n",
    "import xgboost as xgb\n",
    "from sklearn.model_selection import train_test_split\n",
    "from sklearn.metrics import accuracy_score\n",
    "from sklearn.model_selection import GridSearchCV\n",
    "from sklearn.model_selection import StratifiedKFold\n",
    "from sklearn.model_selection import  cross_val_score\n",
    "from sklearn.preprocessing import LabelEncoder\n",
    "\n",
    "class XGBoost:\n",
    "    def __init__(self,predictor, dataset,param_dict,x,split=0.33):\n",
    "        \n",
    "        self.features  = dataset.reset_index(drop=True)\n",
    "        self.labels =  pd.DataFrame(dataset.index)\n",
    "            \n",
    "\n",
    "        self.predictor =predictor\n",
    "\n",
    "        ## split into train and test set\n",
    "        self.x_train,self.x_test,self.y_train,self.y_test = train_test_split(self.features,self.labels,test_size=split)\n",
    "        # define binary or multivlass\n",
    "        self.y_train = np.ravel(self.y_train)\n",
    "        self.y_test = np.ravel(self.y_test)\n",
    "        self.param = param_dict['binary']   \n",
    "            \n",
    "    def define_xgboost(self,n_estimators,max_depth,lr,spw):\n",
    "        # define the model\n",
    "        self.model = XGBClassifier(\n",
    "                                learning_rate =lr,n_estimators=n_estimators,\n",
    "                                eval_metric=self.param['eval_metric'],\n",
    "                                max_depth=max_depth, verbosity=1, \n",
    "                                min_child_weight=7,\n",
    "                                gamma=0, subsample=0.8,\n",
    "                                colsample_bytree=0.8,\n",
    "                                objective=self.param['objective'],\n",
    "                                nthread=4, seed=27,\n",
    "                                booster = 'gbtree',\n",
    "                                tree_method='hist'\n",
    "                                ,scale_pos_weight=spw)\n",
    "        return self.model\n",
    "    def fit_xgboost(self, n_estimators = 10,max_depth = 3,lr=0.1,spw=1):\n",
    "        \n",
    "        self.define_xgboost(n_estimators,max_depth,lr,spw=1.3)\n",
    "        eval_set = [(self.x_train, self.y_train), (self.x_test, self.y_test)]\n",
    "        self.model.fit(self.x_train, self.y_train , eval_metric=self.param['eval_metric'],\n",
    "                                          eval_set=eval_set,\n",
    "                                          verbose=False, early_stopping_rounds=10)\n",
    "        self.training_acc()\n",
    "        self.hold_out_acc()\n",
    "        \n",
    "    def training_acc(self):\n",
    "        # calculate test accuracy\n",
    "        self.acc_tr = accuracy_score(self.y_train,\n",
    "        self.get_predictions(self.x_train))*100\n",
    "        print(\"Baseline model - training accuracy %s: %.2f%%\" % (self.predictor,self.acc_tr))\n",
    "    \n",
    "    def hold_out_acc(self):\n",
    "        # calculate holdout accuracy\n",
    "        self.acc_ho = accuracy_score(self.y_test,\n",
    "        self.get_predictions(self.x_test))*100\n",
    "        print(\"Baseline model - hold-out accuracy %s: %.2f%%\" % (self.predictor,self.acc_ho))\n",
    "\n",
    "    def get_predictions(self, d):\n",
    "        # calculate predictions (labels)\n",
    "\n",
    "        return self.model.predict(d)\n",
    "                \n",
    "    def get_probabilities(self, d = None):\n",
    "        # calculate predictions (probability distributions)\n",
    "        return self.model.predict_proba(d)\n",
    "        \n",
    "    def feature_importance(self,c = None):\n",
    "        # show c most important features\n",
    "        imp = pd.DataFrame()\n",
    "        imp = pd.DataFrame(list((zip(self.x_train.columns, self.model.feature_importances_))))\n",
    "        imp.columns = ['feature', 'importance']\n",
    "        self.imp = imp.sort_values('importance', ascending = False)\n",
    "        return self.imp[:c]\n",
    "    \n",
    "    def plot_imp(self, typ = 'gain', max_num_features = 15):\n",
    "        # plot importance of features\n",
    "        self.name = ''\n",
    "        self.model.get_booster().feature_names = self.x_train.columns.to_list()\n",
    "      \n",
    "        ax = plot_importance(self.model, importance_type = typ, max_num_features = max_num_features, show_values = False, \n",
    "                ylabel = None, xlabel = None)\n",
    "        ax.figure.tight_layout()\n",
    "        self.name = self.name+'_'+typ\n",
    "        ax.figure.savefig(self.name+'.png')\n",
    "        return ax\n",
    "\n",
    "        \n",
    "    def cross_validation(self, n = 5):\n",
    "        \n",
    "        # cross validate, default 5 to speed up the calculations\n",
    "        self.skf = StratifiedKFold(n_splits=5, random_state=7425, shuffle=True)\n",
    "        scores = cross_val_score(self.model, self.x_train, self.y_train, cv = self.skf, scoring='accuracy')\n",
    "        self.cv_acc = np.mean(scores)*100\n",
    "        print('Cross-validation accuracy %s: %.2f%%' % (self.predictor,self.cv_acc))\n",
    "        \n",
    "        \n",
    "    def paramter_tuning(self,param_list, n = 5):\n",
    "        # param_list - dictionary of parameters to tune\n",
    "        # parameters for CV are defined in cross_validation() to avoid discrepancies\n",
    "        label_encoded_y = LabelEncoder().fit_transform(self.y_test)\n",
    "        self.grid_search = GridSearchCV(self.model, param_list, \n",
    "                                    n_jobs=-1,cv=self.skf, verbose=1, \n",
    "                                   scoring='accuracy',return_train_score = True,\n",
    "                                  refit = 'best_score_')\n",
    "        self.grid_result = self.grid_search.fit(self.x_test, label_encoded_y)\n",
    "        # summarize results\n",
    "        print(\"Best: %f using %s\" % (self.grid_result.best_score_*100, self.grid_result.best_params_))\n",
    "    \n",
    "    def plt_tree(self, num_trees  = 0):\n",
    "        # plot a desicion tree (total number is defined as a model parameter)\n",
    "        xgb.to_graphviz(self.model, num_trees=num_trees , max_depth = None,  **{'size':str(40)})\n",
    "\n",
    "\n",
    "\n",
    "\n",
    "    \n",
    "\n"
   ]
  },
  {
   "cell_type": "code",
   "execution_count": 28,
   "metadata": {},
   "outputs": [],
   "source": [
    "from sklearn.metrics import roc_curve\n",
    "#from sklearn.metrics import precision_recall_curve\n",
    "import sklearn.metrics as sm\n",
    "from matplotlib import pyplot\n",
    "\n",
    "def eval(lab,df,pred):\n",
    "    precision, recall, thresholds = sm.precision_recall_curve(lab, df[0])\n",
    "\n",
    "    p=precision.mean()\n",
    "    r=recall.mean()\n",
    "    a=sm.accuracy_score(lab,pred)\n",
    "    f=sm.f1_score(lab, pred, average='binary')\n",
    "    au=sm.roc_auc_score(lab,df[0])\n",
    "    l = list(zip(['presision','recall','accuracy','f score','roc'],[p,r,a,f,au]))\n",
    "    print(l)\n",
    "\n",
    "    pyplot.plot([0, 1], [0, 1], linestyle='--', label='No Skill')\n",
    "    fpr, tpr, _ = roc_curve(lab, df[0])\n",
    "    pyplot.plot(fpr, tpr, marker='.', label='parSMURF',color='green')\n",
    "    pyplot.xlabel('False Positive Rate')\n",
    "    pyplot.ylabel('True Positive Rate')\n",
    "    pyplot.legend()\n",
    "    pyplot.show()\n",
    "\n",
    "    y = lab#[0]\n",
    "    no_skill = len(y[y==1]) / len(y)\n",
    "    pyplot.plot([0, 1], [no_skill, no_skill], linestyle='--', label='No Skill')\n",
    "    #precision, recall, _ = precision_recall_curve(y, df[0])\n",
    "    pyplot.plot(recall, precision, marker='.', label='parSMURF',color='green')\n",
    "    pyplot.xlabel('Recall')\n",
    "    pyplot.ylabel('Precision')\n",
    "    pyplot.legend()\n",
    "    pyplot.show()\n",
    "    \n"
   ]
  },
  {
   "cell_type": "code",
   "execution_count": null,
   "metadata": {},
   "outputs": [],
   "source": []
  },
  {
   "cell_type": "code",
   "execution_count": 2,
   "metadata": {},
   "outputs": [],
   "source": [
    "import json\n",
    "with open('config/SNVs.test.json') as f:\n",
    "    data = json.load(f)"
   ]
  },
  {
   "cell_type": "code",
   "execution_count": 3,
   "metadata": {},
   "outputs": [
    {
     "data": {
      "text/plain": [
       "{'name': 'SNVs.hg38',\n",
       " 'exec': {'name': 'parSMURF1',\n",
       "  'ensThrd': 4,\n",
       "  'rfThrd': 1,\n",
       "  'seed': 1,\n",
       "  'verboseLevel': 3,\n",
       "  'saveTime': True,\n",
       "  'timeFile': 'timeout.txt',\n",
       "  'printCfg': True,\n",
       "  'mode': 'test',\n",
       "  'optimizer': 'no'},\n",
       " 'data': {'dataFile': 'output/predictions/lifted/last/random.features.vcf.gz',\n",
       "  'outFile': 'output/predictions/lifted/last/random.predictions.vcf.gzt',\n",
       "  'forestDir': 'models/hg38'},\n",
       " 'folds': {'nFolds': 10},\n",
       " 'params': {'nParts': [100],\n",
       "  'fp': [2],\n",
       "  'ratio': [3],\n",
       "  'k': [5],\n",
       "  'nTrees': [10],\n",
       "  'mtry': [5]}}"
      ]
     },
     "execution_count": 3,
     "metadata": {},
     "output_type": "execute_result"
    }
   ],
   "source": [
    "data"
   ]
  },
  {
   "cell_type": "code",
   "execution_count": null,
   "metadata": {},
   "outputs": [],
   "source": [
    "zcat output/predictions/lifted/last/random.features.vcf.gz | tail -n +2 | cat -f 3- |sed 's/N\\/A/0/' |less\n",
    "\n"
   ]
  }
 ],
 "metadata": {
  "kernelspec": {
   "display_name": "Python 3",
   "language": "python",
   "name": "python3"
  },
  "language_info": {
   "codemirror_mode": {
    "name": "ipython",
    "version": 3
   },
   "file_extension": ".py",
   "mimetype": "text/x-python",
   "name": "python",
   "nbconvert_exporter": "python",
   "pygments_lexer": "ipython3",
   "version": "3.8.6"
  }
 },
 "nbformat": 4,
 "nbformat_minor": 4
}
