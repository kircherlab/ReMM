{
 "cells": [
  {
   "cell_type": "code",
   "execution_count": 2,
   "metadata": {
    "collapsed": true
   },
   "outputs": [
    {
     "data": {
      "text/plain": [
       "['input/features/hg38/priPhyloPXway/chr1.phyloP30way.wig.gz',\n",
       " 'input/features/hg38/priPhyloPXway/chr1_GL383518v1_alt.phyloP30way.wig.gz']"
      ]
     },
     "execution_count": 2,
     "metadata": {},
     "output_type": "execute_result"
    }
   ],
   "source": [
    "from glob import glob\n",
    "glob(\"input/features/hg38/priPhyloPXway/*\")\n"
   ]
  },
  {
   "cell_type": "code",
   "execution_count": 7,
   "metadata": {
    "collapsed": true
   },
   "outputs": [],
   "source": [
    "df = pd.read_excel('Utils/Features.xlsx')\n",
    "\n",
    "df['Link Release hg38'] =df['Link Release hg38'].replace(['http://','https://'],'',regex =True)\n",
    "\n",
    "df['Link Release hg37'] =df['Link Release hg37'].replace(['http://','https://'],'',regex =True)\n",
    "\n",
    "\n"
   ]
  },
  {
   "cell_type": "code",
   "execution_count": 8,
   "metadata": {
    "collapsed": true
   },
   "outputs": [],
   "source": [
    "import json\n",
    "alle = {}\n",
    "alle['hg38']= dict(df[['ReMM_Name','Link Release hg38']].values.tolist())\n",
    "alle['hg19']= dict(df[['ReMM_Name','Link Release hg37']].values.tolist())\n",
    "with open(\"Utils/features_config.json\", \"w\") as outfile:  \n",
    "    json.dump(alle, outfile,indent=2) \n"
   ]
  },
  {
   "cell_type": "code",
   "execution_count": 49,
   "metadata": {},
   "outputs": [],
   "source": [
    "import json\n",
    "import pandas as pd\n",
    "with open('../config/features_config.json') as f:\n",
    "    data = json.load(f)\n",
    "\n"
   ]
  },
  {
   "cell_type": "code",
   "execution_count": 67,
   "metadata": {},
   "outputs": [
    {
     "data": {
      "text/plain": [
       "type                                                         bed\n",
       "method                                                    upload\n",
       "column                                                         9\n",
       "description    CpG islands. Percentage of island that is C or...\n",
       "dtype: object"
      ]
     },
     "execution_count": 67,
     "metadata": {},
     "output_type": "execute_result"
    }
   ],
   "source": [
    "d = data['hg38']['CpGperGC']\n",
    "d = pd.Series(d)['type':]\n",
    "d#.to_dict()"
   ]
  },
  {
   "cell_type": "code",
   "execution_count": 48,
   "metadata": {},
   "outputs": [
    {
     "ename": "TypeError",
     "evalue": "unhashable type: 'slice'",
     "output_type": "error",
     "traceback": [
      "\u001b[0;31m---------------------------------------------------------------------------\u001b[0m",
      "\u001b[0;31mTypeError\u001b[0m                                 Traceback (most recent call last)",
      "\u001b[0;32m<ipython-input-48-da52f3c8b5e3>\u001b[0m in \u001b[0;36m<module>\u001b[0;34m\u001b[0m\n\u001b[0;32m----> 1\u001b[0;31m \u001b[0md\u001b[0m\u001b[0;34m[\u001b[0m\u001b[0;34m'type'\u001b[0m\u001b[0;34m:\u001b[0m\u001b[0;34m]\u001b[0m\u001b[0;34m\u001b[0m\u001b[0;34m\u001b[0m\u001b[0m\n\u001b[0m",
      "\u001b[0;31mTypeError\u001b[0m: unhashable type: 'slice'"
     ]
    }
   ],
   "source": [
    "d['type':]"
   ]
  },
  {
   "cell_type": "code",
   "execution_count": 23,
   "metadata": {},
   "outputs": [
    {
     "data": {
      "text/plain": [
       "[('url',\n",
       "  'https://hgdownload.soe.ucsc.edu/goldenPath/hg38/database/cpgIslandExt.txt.gz'),\n",
       " ('file', 'cpgIslandExt'),\n",
       " ('files', 'all'),\n",
       " ('type', 'bed'),\n",
       " ('method', 'upload'),\n",
       " ('column', '9'),\n",
       " ('description',\n",
       "  'CpG islands. Percentage of island that is C or G. Downloaded from UCSC table browser')]"
      ]
     },
     "execution_count": 23,
     "metadata": {},
     "output_type": "execute_result"
    }
   ],
   "source": [
    "#[(k,v) for k,v in d.items()][:]"
   ]
  },
  {
   "cell_type": "code",
   "execution_count": 52,
   "metadata": {
    "scrolled": true
   },
   "outputs": [
    {
     "data": {
      "text/plain": [
       "{'feature_set': {'hg38': {'test_feature_set': ['CpGperGC',\n",
       "    'CpGperCpG',\n",
       "    'CpGobsExp',\n",
       "    'GCContent',\n",
       "    'priPhyloP',\n",
       "    'priPhastCons',\n",
       "    'verPhyloP',\n",
       "    'verPhastCons',\n",
       "    'mamPhyloP',\n",
       "    'mamPhastCons',\n",
       "    'EncH3K27Ac',\n",
       "    'EncH3K4Me1',\n",
       "    'EncH3K4Me3',\n",
       "    'DnaseClusteredHyp',\n",
       "    'DnaseClusteredScore',\n",
       "    'Fantom5Perm',\n",
       "    'Fantom5Robust',\n",
       "    'rareVar',\n",
       "    'commonVar',\n",
       "    'fracRareCommon']}},\n",
       " 'hg38': {'GCContent': {'url': 'https://hgdownload.soe.ucsc.edu/goldenPath/hg38/database/cpgIslandExt.txt.gz',\n",
       "   'file': 'GCContent',\n",
       "   'files': 'all',\n",
       "   'window_size': 75,\n",
       "   'type': 'bed',\n",
       "   'method': 'upload',\n",
       "   'column': '4',\n",
       "   'description': 'GC-content in a range of +-75'},\n",
       "  'CpGperGC': {'url': 'https://hgdownload.soe.ucsc.edu/goldenPath/hg38/database/cpgIslandExt.txt.gz',\n",
       "   'file': 'cpgIslandExt',\n",
       "   'files': 'all',\n",
       "   'type': 'bed',\n",
       "   'method': 'upload',\n",
       "   'column': '9',\n",
       "   'description': 'CpG islands. Percentage of island that is C or G. Downloaded from UCSC table browser'},\n",
       "  'CpGperCpG': {'url': 'https://hgdownload.soe.ucsc.edu/goldenPath/hg38/database/cpgIslandExt.txt.gz',\n",
       "   'file': 'cpgIslandExt',\n",
       "   'files': 'all',\n",
       "   'type': 'bed',\n",
       "   'method': 'upload',\n",
       "   'column': '8',\n",
       "   'description': 'CpG islands. Percentage of island that is CpG. Downloaded from UCSC table browser'},\n",
       "  'CpGobsExp': {'url': 'https://hgdownload.soe.ucsc.edu/goldenPath/hg38/database/cpgIslandExt.txt.gz',\n",
       "   'file': 'cpgIslandExt',\n",
       "   'files': 'all',\n",
       "   'type': 'bed',\n",
       "   'column': '10',\n",
       "   'method': 'upload',\n",
       "   'description': 'CpG islands. Ratio of observed (cpgNum) to expected(numC*numG/length) CpG in island downloaded from UCSC table browser'},\n",
       "  'priPhyloP': {'url': 'https://hgdownload.soe.ucsc.edu/goldenPath/hg38/phyloP17way/hg38.phyloP17way.wigFix.gz',\n",
       "   'file': 'priPhyloP',\n",
       "   'files': 'all',\n",
       "   'type': 'wig',\n",
       "   'method': 'upload',\n",
       "   'description': 'Conservation primate phyloP46way downloaded from USCS'},\n",
       "  'priPhastCons': {'url': 'https://hgdownload.soe.ucsc.edu/goldenPath/hg38/phastCons17way/hg38.phastCons17way.wigFix.gz',\n",
       "   'file': 'priPhyloP',\n",
       "   'files': 'all',\n",
       "   'type': 'wig',\n",
       "   'method': 'upload',\n",
       "   'description': 'Conservation primates phastCons46way downloaded from UCSC'},\n",
       "  'verPhyloP': {'url': 'https://hgdownload.soe.ucsc.edu/goldenPath/hg38/phyloP100way/hg38.100way.phyloP100way/',\n",
       "   'file': 'verPhyloP',\n",
       "   'files': ['chr1',\n",
       "    'chr2',\n",
       "    'chr3',\n",
       "    'chr4',\n",
       "    'chr5',\n",
       "    'chr6',\n",
       "    'chr7',\n",
       "    'chr8',\n",
       "    'chr9',\n",
       "    'chr10',\n",
       "    'chr11',\n",
       "    'chr12',\n",
       "    'chr13',\n",
       "    'chr14',\n",
       "    'chr15',\n",
       "    'chr16',\n",
       "    'chr17',\n",
       "    'chr18',\n",
       "    'chr19',\n",
       "    'chr20',\n",
       "    'chr21',\n",
       "    'chr22',\n",
       "    'chrX',\n",
       "    'chrY'],\n",
       "   'type': 'wig',\n",
       "   'method': 'upload',\n",
       "   'description': 'Conservation vertebrate phyloP100way downloaded from UCSC'},\n",
       "  'verPhastCons': {'url': 'https://hgdownload.soe.ucsc.edu/goldenPath/hg38/phastCons100way/hg38.100way.phastCons/',\n",
       "   'file': 'verPhastCons',\n",
       "   'files': ['chr1',\n",
       "    'chr2',\n",
       "    'chr3',\n",
       "    'chr4',\n",
       "    'chr5',\n",
       "    'chr6',\n",
       "    'chr7',\n",
       "    'chr8',\n",
       "    'chr9',\n",
       "    'chr10',\n",
       "    'chr11',\n",
       "    'chr12',\n",
       "    'chr13',\n",
       "    'chr14',\n",
       "    'chr15',\n",
       "    'chr16',\n",
       "    'chr17',\n",
       "    'chr18',\n",
       "    'chr19',\n",
       "    'chr20',\n",
       "    'chr21',\n",
       "    'chr22',\n",
       "    'chrX',\n",
       "    'chrY'],\n",
       "   'type': 'wig',\n",
       "   'method': 'upload',\n",
       "   'description': 'Conservation vertebrate phastCons100way downloaded from UCSC'},\n",
       "  'mamPhyloP': {'url': 'https://hgdownload.soe.ucsc.edu/goldenPath/hg38/phyloP30way/hg38.30way.phyloP/',\n",
       "   'file': 'mamPhyloP',\n",
       "   'files': ['chr1',\n",
       "    'chr2',\n",
       "    'chr3',\n",
       "    'chr4',\n",
       "    'chr5',\n",
       "    'chr6',\n",
       "    'chr7',\n",
       "    'chr8',\n",
       "    'chr9',\n",
       "    'chr10',\n",
       "    'chr11',\n",
       "    'chr12',\n",
       "    'chr13',\n",
       "    'chr14',\n",
       "    'chr15',\n",
       "    'chr16',\n",
       "    'chr17',\n",
       "    'chr18',\n",
       "    'chr19',\n",
       "    'chr20',\n",
       "    'chr21',\n",
       "    'chr22',\n",
       "    'chrX',\n",
       "    'chrY'],\n",
       "   'type': 'wig',\n",
       "   'method': 'upload',\n",
       "   'description': 'Conservation placental mammals phyloP46way downloaded from USCS'},\n",
       "  'mamPhastCons': {'url': 'https://hgdownload.soe.ucsc.edu/goldenPath/hg38/phastCons30way/hg38.30way.phastCons/',\n",
       "   'file': 'mamPhastCons',\n",
       "   'files': ['chr1',\n",
       "    'chr2',\n",
       "    'chr3',\n",
       "    'chr4',\n",
       "    'chr5',\n",
       "    'chr6',\n",
       "    'chr7',\n",
       "    'chr8',\n",
       "    'chr9',\n",
       "    'chr10',\n",
       "    'chr11',\n",
       "    'chr12',\n",
       "    'chr13',\n",
       "    'chr14',\n",
       "    'chr15',\n",
       "    'chr16',\n",
       "    'chr17',\n",
       "    'chr18',\n",
       "    'chr19',\n",
       "    'chr20',\n",
       "    'chr21',\n",
       "    'chr22',\n",
       "    'chrX',\n",
       "    'chrY'],\n",
       "   'type': 'wig',\n",
       "   'method': 'upload',\n",
       "   'description': 'Conservation placental mammals phastCons46way downloaded from UCSC'},\n",
       "  'GerpRS': nan,\n",
       "  'GerpRSpv': nan,\n",
       "  'EncH3K27Ac': {'url': 'http://hgdownload.cse.ucsc.edu/goldenPath/hg38/encodeDCC/wgEncodeRegMarkH3k27ac/',\n",
       "   'file': 'EncH3K27Ac',\n",
       "   'files': ['wgEncodeBroadHistoneGm12878H3k27acStdSig',\n",
       "    'wgEncodeBroadHistoneH1hescH3k27acStdSig',\n",
       "    'wgEncodeBroadHistoneHsmmH3k27acStdSig',\n",
       "    'wgEncodeBroadHistoneHuvecH3k27acStdSig',\n",
       "    'wgEncodeBroadHistoneK562H3k27acStdSig',\n",
       "    'wgEncodeBroadHistoneNhekH3k27acStdSig',\n",
       "    'wgEncodeBroadHistoneNhlfH3k27acStdSig'],\n",
       "   'type': 'wig',\n",
       "   'method': 'upload-max',\n",
       "   'description': 'Maximum ENCODE H3K27 acetylation level'},\n",
       "  'EncH3K4Me1': {'url': 'http://hgdownload.cse.ucsc.edu/goldenPath/hg38/encodeDCC/wgEncodeRegMarkH3k4me1/',\n",
       "   'file': 'EncH3K4Me1',\n",
       "   'files': ['wgEncodeBroadHistoneGm12878H3k4me1StdSig',\n",
       "    'wgEncodeBroadHistoneH1hescH3k4me1StdSig',\n",
       "    'wgEncodeBroadHistoneHsmmH3k4me1StdSig',\n",
       "    'wgEncodeBroadHistoneHuvecH3k4me1StdSig',\n",
       "    'wgEncodeBroadHistoneK562H3k4me1StdSig',\n",
       "    'wgEncodeBroadHistoneNhekH3k4me1StdSig',\n",
       "    'wgEncodeBroadHistoneNhlfH3k4me1StdSig'],\n",
       "   'type': 'wig',\n",
       "   'method': 'upload-max',\n",
       "   'description': 'Maximum ENCODE H3K4 methylation level'},\n",
       "  'EncH3K4Me3': {'url': 'http://hgdownload.cse.ucsc.edu/goldenPath/hg38/encodeDCC/wgEncodeRegMarkH3k4me3/',\n",
       "   'file': 'EncH3K4Me3',\n",
       "   'files': ['wgEncodeBroadHistoneGm12878H3k4me3StdSig',\n",
       "    'wgEncodeBroadHistoneH1hescH3k4me3StdSig',\n",
       "    'wgEncodeBroadHistoneHsmmH3k4me3StdSig',\n",
       "    'wgEncodeBroadHistoneHuvecH3k4me3StdSig',\n",
       "    'wgEncodeBroadHistoneK562H3k4me3StdSig',\n",
       "    'wgEncodeBroadHistoneNhekH3k4me3StdSig',\n",
       "    'wgEncodeBroadHistoneNhlfH3k4me3StdSig'],\n",
       "   'type': 'wig',\n",
       "   'method': 'upload-max',\n",
       "   'description': 'Maximum ENCODE H3K4 trimethylation level'},\n",
       "  'DnaseClusteredHyp': {'url': 'https://hgdownload.soe.ucsc.edu/goldenPath/hg38/database/wgEncodeRegDnaseClustered.txt.gz',\n",
       "   'file': 'DnaseClusteredHyp',\n",
       "   'files': 'all',\n",
       "   'type': 'bed',\n",
       "   'column': '4',\n",
       "   'method': 'upload-max',\n",
       "   'description': 'Number of DnaseClustered V3 cells that are hypersensitive in that region. This track shows DNase hypersensitive areas assayed in a large collection of cell types by the ENCODE project. Regulatory regions in general, and promoters in particular, tend to be DNase-sensitive. Additional views of this data and additional documentation on the methods used to identify hypersensitive sites are available from the Uniform DNaseI HS page. The uniform peaks in that track are the basis for the clusters shown here, which combine data from the peaks of the different cell lines.'},\n",
       "  'DnaseClusteredScore': {'url': 'https://hgdownload.soe.ucsc.edu/goldenPath/hg38/database/wgEncodeRegDnaseClustered.txt.gz',\n",
       "   'file': 'DnaseClusteredScore',\n",
       "   'files': 'all',\n",
       "   'type': 'bed',\n",
       "   'column': '5',\n",
       "   'method': 'upload-max',\n",
       "   'description': 'DnaseClustered V3 Score. This track shows DNase hypersensitive areas assayed in a large collection of cell types by the ENCODE project. Regulatory regions in general, and promoters in particular, tend to be DNase-sensitive. Additional views of this data and additional documentation on the methods used to identify hypersensitive sites are available from the Uniform DNaseI HS page. The uniform peaks in that track are the basis for the clusters shown here, which combine data from the peaks of the different cell lines.'},\n",
       "  'Fantom5Perm': {'url': 'https://zenodo.org/record/545682/files/hg38.tc.decompose_smoothing_merged.ctssMaxCounts3.bed.gz?download=1',\n",
       "   'file': 'Fantom5Perm',\n",
       "   'files': 'all',\n",
       "   'type': 'bed',\n",
       "   'column': '5',\n",
       "   'method': 'upload',\n",
       "   'description': 'permissive enhancers by the Andersson et al. paper.'},\n",
       "  'Fantom5Robust': {'url': 'https://zenodo.org/record/545682/files/hg38.tc.decompose_smoothing_merged.ctssMaxCounts11_ctssMaxTpm1.bed.gz?download=1',\n",
       "   'file': 'Fantom5Robust',\n",
       "   'files': 'all',\n",
       "   'type': 'bed',\n",
       "   'column': '5',\n",
       "   'method': 'upload',\n",
       "   'description': 'robust enhancers by the Andersson et al. paper.'},\n",
       "  'numTFBSConserved': nan,\n",
       "  'rareVar': {'file': '1KG',\n",
       "   'files': ['chr1',\n",
       "    'chr2',\n",
       "    'chr3',\n",
       "    'chr4',\n",
       "    'chr5',\n",
       "    'chr6',\n",
       "    'chr7',\n",
       "    'chr8',\n",
       "    'chr9',\n",
       "    'chr10',\n",
       "    'chr11',\n",
       "    'chr12',\n",
       "    'chr13',\n",
       "    'chr14',\n",
       "    'chr15',\n",
       "    'chr16',\n",
       "    'chr17',\n",
       "    'chr18',\n",
       "    'chr19',\n",
       "    'chr20',\n",
       "    'chr21',\n",
       "    'chr22',\n",
       "    'chrX'],\n",
       "   'type': 'bed',\n",
       "   'column': '5',\n",
       "   'method': 'upload',\n",
       "   'description': 'Number of rare 1000 genome variants (< 0.5% allele frequency) in a +-500 window.'},\n",
       "  'commonVar': {'file': '1KG',\n",
       "   'files': ['chr1',\n",
       "    'chr2',\n",
       "    'chr3',\n",
       "    'chr4',\n",
       "    'chr5',\n",
       "    'chr6',\n",
       "    'chr7',\n",
       "    'chr8',\n",
       "    'chr9',\n",
       "    'chr10',\n",
       "    'chr11',\n",
       "    'chr12',\n",
       "    'chr13',\n",
       "    'chr14',\n",
       "    'chr15',\n",
       "    'chr16',\n",
       "    'chr17',\n",
       "    'chr18',\n",
       "    'chr19',\n",
       "    'chr20',\n",
       "    'chr21',\n",
       "    'chr22',\n",
       "    'chrX'],\n",
       "   'type': 'bed',\n",
       "   'column': '6',\n",
       "   'method': 'upload',\n",
       "   'description': 'Number of common 1000 genome variants (>= 0.5% allele frequency) in a +-500 window.'},\n",
       "  'fracRareCommon': {'file': '1KG',\n",
       "   'files': ['chr1',\n",
       "    'chr2',\n",
       "    'chr3',\n",
       "    'chr4',\n",
       "    'chr5',\n",
       "    'chr6',\n",
       "    'chr7',\n",
       "    'chr8',\n",
       "    'chr9',\n",
       "    'chr10',\n",
       "    'chr11',\n",
       "    'chr12',\n",
       "    'chr13',\n",
       "    'chr14',\n",
       "    'chr15',\n",
       "    'chr16',\n",
       "    'chr17',\n",
       "    'chr18',\n",
       "    'chr19',\n",
       "    'chr20',\n",
       "    'chr21',\n",
       "    'chr22',\n",
       "    'chrX'],\n",
       "   'type': 'bed',\n",
       "   'column': '4',\n",
       "   'method': 'upload',\n",
       "   'description': 'Fraction of rare and common variants in a +-500 window.'},\n",
       "  'ISCApath': {'url': 'https://ftp.clinicalgenome.org/ClinGen%20recurrent%20CNV%20.bed%20file%20V1.1-hg38.bed',\n",
       "   'extension': 'bed.gz',\n",
       "   'rule': 'rules.get_feature_Fantom5.output.vcf.gz',\n",
       "   'type': 'bed',\n",
       "   'column': '4',\n",
       "   'method': 'upload',\n",
       "   'description': 'Count of overlapping ISCA entries (nstd37_45_75). Use only pathogenic or likely pathogenic.'},\n",
       "  'dbVARCount': {'url': 'https://ftp.ncbi.nlm.nih.gov/pub/dbVar/data/Homo_sapiens/by_assembly/GRCh38/gvf/GRCh38.variant_call.all.gvf.gz',\n",
       "   'extension': 'bed.gz',\n",
       "   'rule': '',\n",
       "   'type': 'gvf.gz',\n",
       "   'column': '4',\n",
       "   'method': 'upload',\n",
       "   'description': 'Count of overlapping dbVar entries. Not benign or or likley benign.'},\n",
       "  'DGVCount': {'url': 'http://dgv.tcag.ca/dgv/docs/GRCh38_hg38_variants_2020-02-25.txt',\n",
       "   'extension': 'txt',\n",
       "   'rule': '',\n",
       "   'type': 'bed',\n",
       "   'column': '4',\n",
       "   'method': 'upload',\n",
       "   'description': 'Count of overlapping DGV entries.'}},\n",
       " 'hg19': {'cpgIslandExt': 'https://hgdownload.soe.ucsc.edu/goldenPath/hg38/database/',\n",
       "  'GCContent': nan,\n",
       "  'CpGperGC': nan,\n",
       "  'CpGperCpG': nan,\n",
       "  'CpGobsExp': nan,\n",
       "  'priPhyloP46way': 'http://hgdownload.soe.ucsc.edu/goldenPath/hg19/phyloP46way/primates',\n",
       "  'verPhyloP46way': 'http://hgdownload.soe.ucsc.edu/goldenPath/hg19/phyloP46way/vertebrate',\n",
       "  'mamPhyloP46way': 'http://hgdownload.soe.ucsc.edu/goldenPath/hg19/phyloP46way/placentalMammals/',\n",
       "  'priPhastCons46way': 'http://hgdownload.soe.ucsc.edu/goldenPath/hg19/phastCons46way/primates',\n",
       "  'verPhastCons46way': 'http://hgdownload.soe.ucsc.edu/goldenPath/hg19/phastCons46way/vertebrate',\n",
       "  'mamPhastCons46way': 'http://hgdownload.soe.ucsc.edu/goldenPath/hg19/phastCons46way/placentalMammals',\n",
       "  'GerpRS': 'http://mendel.stanford.edu/SidowLab/downloads/gerp/hg19.GERP_elements.tar.gz',\n",
       "  'GerpRSpv': 'http://mendel.stanford.edu/SidowLab/downloads/gerp/hg19.GERP_elements.tar.gz',\n",
       "  'EncH3K27Ac': 'http://hgdownload.cse.ucsc.edu/goldenPath/hg19/encodeDCC/wgEncodeRegMarkH3k27ac',\n",
       "  'EncH3K4Me1': 'http://hgdownload.cse.ucsc.edu/goldenPath/hg19/encodeDCC/wgEncodeRegMarkH3k4me1',\n",
       "  'EncH3K4Me3': 'http://hgdownload.cse.ucsc.edu/goldenPath/hg19/encodeDCC/wgEncodeRegMarkH3k4me3',\n",
       "  'DnaseClusteredHyp': 'http://hgdownload.cse.ucsc.edu/goldenPath/hg19/encodeDCC/wgEncodeRegDnaseClustered',\n",
       "  'DnaseClusteredScore': 'http://hgdownload.cse.ucsc.edu/goldenPath/hg19/encodeDCC/wgEncodeRegDnaseClustered',\n",
       "  'fantom5Perm': 'http://enhancer.binf.ku.dk/presets/permissive_enhancers.bed',\n",
       "  'fantom5Robust': 'http://enhancer.binf.ku.dk/presets/robust_enhancers.bed',\n",
       "  'numTFBSConserved': 'UCSC table tfbsConsSites',\n",
       "  'rareVar': nan,\n",
       "  'commonVar': nan,\n",
       "  'fracRareCommon': nan,\n",
       "  'ISCApath': nan,\n",
       "  'dbVARCount': nan,\n",
       "  'DGVCount': nan,\n",
       "  'NaN': nan}}"
      ]
     },
     "execution_count": 52,
     "metadata": {},
     "output_type": "execute_result"
    }
   ],
   "source": [
    "d"
   ]
  },
  {
   "cell_type": "code",
   "execution_count": 65,
   "metadata": {},
   "outputs": [],
   "source": [
    "d = data['hg38']['CpGperGC']\n",
    "\n",
    "def get_properties(d):\n",
    "    dd = []\n",
    "    for key, value in d.items():\n",
    "        dd.append(key + \" = \" + value)\n",
    "        #print(dd)\n",
    "    return dd\n",
    "f = get_properties(d)"
   ]
  },
  {
   "cell_type": "code",
   "execution_count": 66,
   "metadata": {},
   "outputs": [
    {
     "ename": "ValueError",
     "evalue": "'type' is not in list",
     "output_type": "error",
     "traceback": [
      "\u001b[0;31m---------------------------------------------------------------------------\u001b[0m",
      "\u001b[0;31mValueError\u001b[0m                                Traceback (most recent call last)",
      "\u001b[0;32m<ipython-input-66-8c6f0baeb2cd>\u001b[0m in \u001b[0;36m<module>\u001b[0;34m\u001b[0m\n\u001b[0;32m----> 1\u001b[0;31m \u001b[0mf\u001b[0m\u001b[0;34m.\u001b[0m\u001b[0mindex\u001b[0m\u001b[0;34m(\u001b[0m\u001b[0;34m'type'\u001b[0m\u001b[0;34m)\u001b[0m\u001b[0;34m\u001b[0m\u001b[0;34m\u001b[0m\u001b[0m\n\u001b[0m",
      "\u001b[0;31mValueError\u001b[0m: 'type' is not in list"
     ]
    }
   ],
   "source": [
    "f.index('type')"
   ]
  },
  {
   "cell_type": "code",
   "execution_count": 72,
   "metadata": {},
   "outputs": [
    {
     "data": {
      "text/plain": [
       "'type = bed \\nmethod = upload \\ncolumn = 9 \\ndescription = CpG islands. Percentage of island that is C or G. Downloaded from UCSC table browser'"
      ]
     },
     "execution_count": 72,
     "metadata": {},
     "output_type": "execute_result"
    }
   ],
   "source": [
    "d = data['hg38']['CpGperGC']\n",
    "\n",
    "def get_properties(d):\n",
    "    dd = []\n",
    "    d_ = pd.Series(d)['type':].to_dict()\n",
    "    for key, value in d_.items():\n",
    "        dd.append(key + ' = ' + value)\n",
    "    return \" \\n\".join(dd)\n",
    "get_properties(d)"
   ]
  },
  {
   "cell_type": "code",
   "execution_count": 53,
   "metadata": {},
   "outputs": [
    {
     "ename": "ValueError",
     "evalue": "too many values to unpack (expected 2)",
     "output_type": "error",
     "traceback": [
      "\u001b[0;31m---------------------------------------------------------------------------\u001b[0m",
      "\u001b[0;31mValueError\u001b[0m                                Traceback (most recent call last)",
      "\u001b[0;32m<ipython-input-53-3c94ab8cf3c3>\u001b[0m in \u001b[0;36m<module>\u001b[0;34m\u001b[0m\n\u001b[1;32m      6\u001b[0m         \u001b[0mdd\u001b[0m\u001b[0;34m.\u001b[0m\u001b[0mappend\u001b[0m\u001b[0;34m(\u001b[0m\u001b[0mkey\u001b[0m \u001b[0;34m+\u001b[0m \u001b[0;34m' = '\u001b[0m \u001b[0;34m+\u001b[0m \u001b[0mvalue\u001b[0m\u001b[0;34m)\u001b[0m\u001b[0;34m\u001b[0m\u001b[0;34m\u001b[0m\u001b[0m\n\u001b[1;32m      7\u001b[0m     \u001b[0;32mreturn\u001b[0m \u001b[0;34m\" \\n\"\u001b[0m\u001b[0;34m.\u001b[0m\u001b[0mjoin\u001b[0m\u001b[0;34m(\u001b[0m\u001b[0mdd\u001b[0m\u001b[0;34m[\u001b[0m\u001b[0;36m2\u001b[0m\u001b[0;34m:\u001b[0m\u001b[0;34m]\u001b[0m\u001b[0;34m)\u001b[0m\u001b[0;34m\u001b[0m\u001b[0;34m\u001b[0m\u001b[0m\n\u001b[0;32m----> 8\u001b[0;31m \u001b[0mget_properties\u001b[0m\u001b[0;34m(\u001b[0m\u001b[0md\u001b[0m\u001b[0;34m)\u001b[0m\u001b[0;34m\u001b[0m\u001b[0;34m\u001b[0m\u001b[0m\n\u001b[0m",
      "\u001b[0;32m<ipython-input-53-3c94ab8cf3c3>\u001b[0m in \u001b[0;36mget_properties\u001b[0;34m(d)\u001b[0m\n\u001b[1;32m      3\u001b[0m     \u001b[0mdd\u001b[0m \u001b[0;34m=\u001b[0m \u001b[0;34m[\u001b[0m\u001b[0;34m]\u001b[0m\u001b[0;34m\u001b[0m\u001b[0;34m\u001b[0m\u001b[0m\n\u001b[1;32m      4\u001b[0m     \u001b[0md_\u001b[0m \u001b[0;34m=\u001b[0m \u001b[0mpd\u001b[0m\u001b[0;34m.\u001b[0m\u001b[0mSeries\u001b[0m\u001b[0;34m(\u001b[0m\u001b[0md\u001b[0m\u001b[0;34m)\u001b[0m\u001b[0;34m\u001b[0m\u001b[0;34m\u001b[0m\u001b[0m\n\u001b[0;32m----> 5\u001b[0;31m     \u001b[0;32mfor\u001b[0m \u001b[0mkey\u001b[0m\u001b[0;34m,\u001b[0m \u001b[0mvalue\u001b[0m \u001b[0;32min\u001b[0m \u001b[0mpd\u001b[0m\u001b[0;34m.\u001b[0m\u001b[0mSeries\u001b[0m\u001b[0;34m(\u001b[0m\u001b[0md\u001b[0m\u001b[0;34m)\u001b[0m\u001b[0;34m.\u001b[0m\u001b[0mto_dict\u001b[0m\u001b[0;34m(\u001b[0m\u001b[0;34m)\u001b[0m\u001b[0;34m:\u001b[0m\u001b[0;34m\u001b[0m\u001b[0;34m\u001b[0m\u001b[0m\n\u001b[0m\u001b[1;32m      6\u001b[0m         \u001b[0mdd\u001b[0m\u001b[0;34m.\u001b[0m\u001b[0mappend\u001b[0m\u001b[0;34m(\u001b[0m\u001b[0mkey\u001b[0m \u001b[0;34m+\u001b[0m \u001b[0;34m' = '\u001b[0m \u001b[0;34m+\u001b[0m \u001b[0mvalue\u001b[0m\u001b[0;34m)\u001b[0m\u001b[0;34m\u001b[0m\u001b[0;34m\u001b[0m\u001b[0m\n\u001b[1;32m      7\u001b[0m     \u001b[0;32mreturn\u001b[0m \u001b[0;34m\" \\n\"\u001b[0m\u001b[0;34m.\u001b[0m\u001b[0mjoin\u001b[0m\u001b[0;34m(\u001b[0m\u001b[0mdd\u001b[0m\u001b[0;34m[\u001b[0m\u001b[0;36m2\u001b[0m\u001b[0;34m:\u001b[0m\u001b[0;34m]\u001b[0m\u001b[0;34m)\u001b[0m\u001b[0;34m\u001b[0m\u001b[0;34m\u001b[0m\u001b[0m\n",
      "\u001b[0;31mValueError\u001b[0m: too many values to unpack (expected 2)"
     ]
    }
   ],
   "source": [
    "\n",
    "d = data['hg38']['CpGperGC']\n",
    "def get_properties(d):\n",
    "    dd = []\n",
    "    d_ = pd.Series(d)\n",
    "    for key, value in pd.Series(d).to_dict():\n",
    "        dd.append(key + ' = ' + value)\n",
    "    return \" \\n\".join(dd[2:])\n",
    "get_properties(d)"
   ]
  },
  {
   "cell_type": "code",
   "execution_count": 48,
   "metadata": {
    "collapsed": true
   },
   "outputs": [
    {
     "ename": "TypeError",
     "evalue": "sequence item 0: expected str instance, list found",
     "output_type": "error",
     "traceback": [
      "\u001b[0;31m---------------------------------------------------------------------------\u001b[0m",
      "\u001b[0;31mTypeError\u001b[0m                                 Traceback (most recent call last)",
      "\u001b[0;32m<ipython-input-48-b2c9f532c6e0>\u001b[0m in \u001b[0;36m<module>\u001b[0;34m\u001b[0m\n\u001b[0;32m----> 1\u001b[0;31m \u001b[0;34m\" \\n \"\u001b[0m\u001b[0;34m.\u001b[0m\u001b[0mjoin\u001b[0m\u001b[0;34m(\u001b[0m\u001b[0mdd\u001b[0m\u001b[0;34m[\u001b[0m\u001b[0;36m2\u001b[0m\u001b[0;34m:\u001b[0m\u001b[0;34m]\u001b[0m\u001b[0;34m)\u001b[0m\u001b[0;34m\u001b[0m\u001b[0;34m\u001b[0m\u001b[0m\n\u001b[0m",
      "\u001b[0;31mTypeError\u001b[0m: sequence item 0: expected str instance, list found"
     ]
    }
   ],
   "source": [
    "\" \\n \".join(dd[2:])"
   ]
  },
  {
   "cell_type": "code",
   "execution_count": 1,
   "metadata": {
    "collapsed": true
   },
   "outputs": [],
   "source": [
    "\n",
    "d = {'url': 'https://hgdownload.soe.ucsc.edu/goldenPath/hg38/database/cpgIslandExt.txt.gz', 'extension': 'bed', 'type': 'bed', 'column': 10, 'method': 'upload', 'description': 'CpG islands. Ratio of observed (cpgNum) to expected(numC*numG/length) CpG in island downloaded from UCSC table browser'}\n"
   ]
  },
  {
   "cell_type": "code",
   "execution_count": 5,
   "metadata": {
    "collapsed": true
   },
   "outputs": [
    {
     "data": {
      "text/plain": [
       "'file = input/features/hg38/CpGobsExp/CpGobsExp.bed'"
      ]
     },
     "execution_count": 5,
     "metadata": {},
     "output_type": "execute_result"
    }
   ],
   "source": [
    "from glob import glob\n",
    "\n",
    "_ = glob(\"input/features/hg38/CpGobsExp/*.bed\")\n",
    "files = \" \\n\".join(['file = ' + file for file in _])\n",
    "files"
   ]
  },
  {
   "cell_type": "code",
   "execution_count": 33,
   "metadata": {
    "collapsed": true
   },
   "outputs": [],
   "source": [
    "with open('Utils/features_config.json') as f:\n",
    "    config = json.load(f)\n",
    "\n",
    "method = 'upload' \n",
    "description = 'Conservation primate phyloP46way downloaded from USCS' \n",
    "name = 'priPhyloPXway'\n",
    "_files = ['input/features/hg38/priPhyloPXway/chr1_KI270707v1_random.phyloP30way.wigFix.gz',\n",
    "'input/features/hg38/priPhyloPXway/chr1_KI270706v1_random.phyloP30way.wigFix.gz']\n",
    "\n",
    "import json\n",
    "import datetime\n",
    "from glob import glob\n",
    "def get_properties(d):\n",
    "    dd = []\n",
    "    for key, value in d.items():\n",
    "        dd.append(key + ' = ' + value)\n",
    "    return \" \\n\".join(dd[2:])\n",
    "\n",
    "\n",
    "date = str(datetime.date.today())\n",
    "#files = snakemake.output\n",
    "#name = snakemake.feature\n",
    "\n",
    "files = \" \\n\".join(['file = ' + file for file in _files])\n",
    "property_list = get_properties(config['hg38'][name])\n",
    "\n",
    "properties = \" \\n\".join([name,date,property_list,files])\n",
    "\n",
    "with open('proper', 'w') as outfile:\n",
    "    for f in properties:\n",
    "        outfile.write(f)\n"
   ]
  },
  {
   "cell_type": "code",
   "execution_count": 3,
   "metadata": {
    "collapsed": true
   },
   "outputs": [
    {
     "data": {
      "text/plain": [
       "'rules.get_feature_cpgIslandExt.output'"
      ]
     },
     "execution_count": 3,
     "metadata": {},
     "output_type": "execute_result"
    }
   ],
   "source": [
    "\"rules.get_feature_cpgIslandExt.output\".replace(\"\\\"\",'')"
   ]
  },
  {
   "cell_type": "code",
   "execution_count": 4,
   "metadata": {
    "collapsed": true
   },
   "outputs": [],
   "source": [
    "x='buffalo'    \n",
    "exec(\"%s = %d\" % (x,2))"
   ]
  },
  {
   "cell_type": "code",
   "execution_count": 5,
   "metadata": {
    "collapsed": true
   },
   "outputs": [
    {
     "data": {
      "text/plain": [
       "2"
      ]
     },
     "execution_count": 5,
     "metadata": {},
     "output_type": "execute_result"
    }
   ],
   "source": [
    "buffalo"
   ]
  },
  {
   "cell_type": "code",
   "execution_count": 8,
   "metadata": {
    "collapsed": true
   },
   "outputs": [
    {
     "ename": "NameError",
     "evalue": "name 'rules' is not defined",
     "output_type": "error",
     "traceback": [
      "\u001b[0;31m---------------------------------------------------------------------------\u001b[0m",
      "\u001b[0;31mNameError\u001b[0m                                 Traceback (most recent call last)",
      "\u001b[0;32m<ipython-input-8-5ccbc4e883d7>\u001b[0m in \u001b[0;36m<module>\u001b[0;34m\u001b[0m\n\u001b[1;32m      1\u001b[0m \u001b[0mdi\u001b[0m\u001b[0;34m=\u001b[0m\u001b[0;34m{\u001b[0m\u001b[0;34m'CpGobsExp'\u001b[0m\u001b[0;34m:\u001b[0m \u001b[0;34m\"rules.get_feature_CpGobsExp.output\"\u001b[0m\u001b[0;34m}\u001b[0m\u001b[0;34m\u001b[0m\u001b[0;34m\u001b[0m\u001b[0m\n\u001b[0;32m----> 2\u001b[0;31m \u001b[0meval\u001b[0m\u001b[0;34m(\u001b[0m\u001b[0mdi\u001b[0m\u001b[0;34m[\u001b[0m\u001b[0;34m\"CpGobsExp\"\u001b[0m\u001b[0;34m]\u001b[0m\u001b[0;34m)\u001b[0m\u001b[0;34m\u001b[0m\u001b[0;34m\u001b[0m\u001b[0m\n\u001b[0m",
      "\u001b[0;32m<string>\u001b[0m in \u001b[0;36m<module>\u001b[0;34m\u001b[0m\n",
      "\u001b[0;31mNameError\u001b[0m: name 'rules' is not defined"
     ]
    }
   ],
   "source": [
    "di={'CpGobsExp': \"rules.get_feature_CpGobsExp.output\"}\n",
    "eval(di[\"CpGobsExp\"])"
   ]
  },
  {
   "cell_type": "code",
   "execution_count": null,
   "metadata": {
    "collapsed": true
   },
   "outputs": [],
   "source": []
  }
 ],
 "metadata": {
  "kernelspec": {
   "display_name": "Python 3",
   "language": "python",
   "name": "python3"
  },
  "language_info": {
   "codemirror_mode": {
    "name": "ipython",
    "version": 3
   },
   "file_extension": ".py",
   "mimetype": "text/x-python",
   "name": "python",
   "nbconvert_exporter": "python",
   "pygments_lexer": "ipython3",
   "version": "3.8.3"
  }
 },
 "nbformat": 4,
 "nbformat_minor": 4
}
